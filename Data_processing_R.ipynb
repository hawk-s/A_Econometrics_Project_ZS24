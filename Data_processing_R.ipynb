{
 "cells": [
  {
   "cell_type": "code",
   "execution_count": 1,
   "id": "8bb76a99-44a4-48b0-a111-a9de0e159073",
   "metadata": {
    "vscode": {
     "languageId": "r"
    }
   },
   "outputs": [
    {
     "name": "stderr",
     "output_type": "stream",
     "text": [
      "Updating HTML index of packages in '.Library'\n",
      "\n",
      "Making 'packages.html' ...\n",
      " done\n",
      "\n"
     ]
    }
   ],
   "source": [
    "#packages_installation\n",
    "#install.packages(\"readxl\")\n"
   ]
  },
  {
   "cell_type": "code",
   "execution_count": 3,
   "id": "edc274e7-063b-433e-962d-e9053b1cfeeb",
   "metadata": {
    "vscode": {
     "languageId": "r"
    }
   },
   "outputs": [],
   "source": [
    "#opening packages\n",
    "library(readxl)\n",
    "#library(tidyverse)\n",
    "\n"
   ]
  },
  {
   "cell_type": "code",
   "execution_count": 4,
   "id": "d029b122-6ed2-4578-a9b4-a81ab81c6fe5",
   "metadata": {
    "vscode": {
     "languageId": "r"
    }
   },
   "outputs": [],
   "source": [
    "#loading pokemon dataset and changing the price values to numbers\n",
    "pokemon <- read_excel(\"scraping/fctions/card_prices_data.xlsx\")\n",
    "pokemon$Price <- as.numeric(gsub(\"[^0-9.]\", \"\", pokemon$Price))\n",
    "pokemon$Grade <- as.numeric(pokemon$Grade)"
   ]
  },
  {
   "cell_type": "code",
   "execution_count": 5,
   "id": "03a88ec5-508b-4a6c-bd77-7bcd03a47665",
   "metadata": {
    "vscode": {
     "languageId": "r"
    }
   },
   "outputs": [
    {
     "data": {
      "text/html": [
       "<table>\n",
       "<thead><tr><th scope=col>Date</th><th scope=col>Grade</th><th scope=col>Price</th><th scope=col>Sale Type</th><th scope=col>set_name</th><th scope=col>card_name</th></tr></thead>\n",
       "<tbody>\n",
       "\t<tr><td>2023-10-30               </td><td> 9                       </td><td>12.50                    </td><td>Auction                  </td><td>2021 Pokemon Celebrations</td><td>HO-Oh                    </td></tr>\n",
       "\t<tr><td>2023-10-30               </td><td> 8                       </td><td> 8.50                    </td><td>Auction                  </td><td>2021 Pokemon Celebrations</td><td>HO-Oh                    </td></tr>\n",
       "\t<tr><td>2023-10-27               </td><td> 9                       </td><td> 7.00                    </td><td>Auction                  </td><td>2021 Pokemon Celebrations</td><td>HO-Oh                    </td></tr>\n",
       "\t<tr><td>2023-10-18               </td><td> 9                       </td><td> 9.70                    </td><td>Auction                  </td><td>2021 Pokemon Celebrations</td><td>HO-Oh                    </td></tr>\n",
       "\t<tr><td>2023-10-06               </td><td>10                       </td><td>29.13                    </td><td>Auction                  </td><td>2021 Pokemon Celebrations</td><td>HO-Oh                    </td></tr>\n",
       "\t<tr><td>2023-09-22               </td><td> 8                       </td><td> 9.99                    </td><td>Auction                  </td><td>2021 Pokemon Celebrations</td><td>HO-Oh                    </td></tr>\n",
       "</tbody>\n",
       "</table>\n"
      ],
      "text/latex": [
       "\\begin{tabular}{r|llllll}\n",
       " Date & Grade & Price & Sale Type & set\\_name & card\\_name\\\\\n",
       "\\hline\n",
       "\t 2023-10-30                &  9                        & 12.50                     & Auction                   & 2021 Pokemon Celebrations & HO-Oh                    \\\\\n",
       "\t 2023-10-30                &  8                        &  8.50                     & Auction                   & 2021 Pokemon Celebrations & HO-Oh                    \\\\\n",
       "\t 2023-10-27                &  9                        &  7.00                     & Auction                   & 2021 Pokemon Celebrations & HO-Oh                    \\\\\n",
       "\t 2023-10-18                &  9                        &  9.70                     & Auction                   & 2021 Pokemon Celebrations & HO-Oh                    \\\\\n",
       "\t 2023-10-06                & 10                        & 29.13                     & Auction                   & 2021 Pokemon Celebrations & HO-Oh                    \\\\\n",
       "\t 2023-09-22                &  8                        &  9.99                     & Auction                   & 2021 Pokemon Celebrations & HO-Oh                    \\\\\n",
       "\\end{tabular}\n"
      ],
      "text/markdown": [
       "\n",
       "| Date | Grade | Price | Sale Type | set_name | card_name |\n",
       "|---|---|---|---|---|---|\n",
       "| 2023-10-30                |  9                        | 12.50                     | Auction                   | 2021 Pokemon Celebrations | HO-Oh                     |\n",
       "| 2023-10-30                |  8                        |  8.50                     | Auction                   | 2021 Pokemon Celebrations | HO-Oh                     |\n",
       "| 2023-10-27                |  9                        |  7.00                     | Auction                   | 2021 Pokemon Celebrations | HO-Oh                     |\n",
       "| 2023-10-18                |  9                        |  9.70                     | Auction                   | 2021 Pokemon Celebrations | HO-Oh                     |\n",
       "| 2023-10-06                | 10                        | 29.13                     | Auction                   | 2021 Pokemon Celebrations | HO-Oh                     |\n",
       "| 2023-09-22                |  8                        |  9.99                     | Auction                   | 2021 Pokemon Celebrations | HO-Oh                     |\n",
       "\n"
      ],
      "text/plain": [
       "  Date       Grade Price Sale Type set_name                  card_name\n",
       "1 2023-10-30  9    12.50 Auction   2021 Pokemon Celebrations HO-Oh    \n",
       "2 2023-10-30  8     8.50 Auction   2021 Pokemon Celebrations HO-Oh    \n",
       "3 2023-10-27  9     7.00 Auction   2021 Pokemon Celebrations HO-Oh    \n",
       "4 2023-10-18  9     9.70 Auction   2021 Pokemon Celebrations HO-Oh    \n",
       "5 2023-10-06 10    29.13 Auction   2021 Pokemon Celebrations HO-Oh    \n",
       "6 2023-09-22  8     9.99 Auction   2021 Pokemon Celebrations HO-Oh    "
      ]
     },
     "metadata": {},
     "output_type": "display_data"
    }
   ],
   "source": [
    "#checking head\n",
    "head(pokemon)"
   ]
  },
  {
   "cell_type": "code",
   "execution_count": 6,
   "id": "8dca2e8f-e620-4a3f-9c30-548d286cf76e",
   "metadata": {
    "vscode": {
     "languageId": "r"
    }
   },
   "outputs": [],
   "source": [
    "#splits the dataset based on the name of the pokemon cards\n",
    "pokemon_data_list <- split(pokemon, pokemon$card_name)"
   ]
  },
  {
   "cell_type": "code",
   "execution_count": 7,
   "id": "78a2a564-32b0-4247-bf91-f79b78b716b0",
   "metadata": {
    "vscode": {
     "languageId": "r"
    }
   },
   "outputs": [
    {
     "data": {
      "text/html": [
       "6868"
      ],
      "text/latex": [
       "6868"
      ],
      "text/markdown": [
       "6868"
      ],
      "text/plain": [
       "[1] 6868"
      ]
     },
     "metadata": {},
     "output_type": "display_data"
    }
   ],
   "source": [
    "#list all pokemon card names\n",
    "all_card_names <- unique(pokemon$card_name)\n",
    "length(all_card_names)"
   ]
  },
  {
   "cell_type": "code",
   "execution_count": 8,
   "id": "c372c4c7-38c0-4509-add7-9bedb2099322",
   "metadata": {
    "vscode": {
     "languageId": "r"
    }
   },
   "outputs": [
    {
     "name": "stdout",
     "output_type": "stream",
     "text": [
      "Data for Mew :\n",
      "# A tibble: 137 x 6\n",
      "   Date       Grade Price `Sale Type` set_name                  card_name\n",
      "   <chr>      <dbl> <dbl> <chr>       <chr>                     <chr>    \n",
      " 1 2023-10-26    10 40    Auction     2021 Pokemon Celebrations Mew      \n",
      " 2 2023-10-15     9 12.0  Auction     2021 Pokemon Celebrations Mew      \n",
      " 3 2023-10-09     8  3.25 Auction     2021 Pokemon Celebrations Mew      \n",
      " 4 2023-10-04     9  9.99 Auction     2021 Pokemon Celebrations Mew      \n",
      " 5 2023-09-23     9  3    Auction     2021 Pokemon Celebrations Mew      \n",
      " 6 2023-09-21     9 17.2  Auction     2021 Pokemon Celebrations Mew      \n",
      " 7 2023-09-04     8  3.25 Auction     2021 Pokemon Celebrations Mew      \n",
      " 8 2023-09-04     8  6.5  Auction     2021 Pokemon Celebrations Mew      \n",
      " 9 2023-09-01     9 15.5  Auction     2021 Pokemon Celebrations Mew      \n",
      "10 2023-08-21     9 11.5  Auction     2021 Pokemon Celebrations Mew      \n",
      "# ... with 127 more rows\n"
     ]
    }
   ],
   "source": [
    "#accesing the specified card name from dartaset\n",
    "name <- \"Mew\"\n",
    "if (name %in% all_card_names) {\n",
    "  # Access the dataset for the target card name\n",
    "  first_data <- pokemon_data_list[[name]]\n",
    "  cat(\"Data for\", name, \":\\n\")\n",
    "  print(first_data)\n",
    "} else {\n",
    "  cat(\"Dataset not found for\", name, \"\\n\")\n",
    "}"
   ]
  },
  {
   "cell_type": "code",
   "execution_count": 9,
   "id": "7ea8f1e3-877a-4a79-b079-b3a95617e9a4",
   "metadata": {
    "vscode": {
     "languageId": "r"
    }
   },
   "outputs": [],
   "source": [
    "#accing more specified number of card names, not used so far\n",
    "how_many<- 0\n",
    "for (target_card_names in all_card_names[0:how_many]) {\n",
    "  # Check if the target card name exists in the list\n",
    "  if (target_card_names %in% all_card_names) {\n",
    "    # Access the dataset for the target card name\n",
    "    target_card_data <- pokemon_data_list[[target_card_names]]\n",
    "    cat(\"Data for\", target_card_names, \":\\n\")\n",
    "    print(target_card_data)\n",
    "    cat(\"\\n\")\n",
    "  } else {\n",
    "    cat(\"Dataset not found for\", target_card_names, \"\\n\")\n",
    "  }\n",
    "}\n"
   ]
  },
  {
   "cell_type": "code",
   "execution_count": 11,
   "id": "a201a7ed-caf5-43b5-b1e8-3d0a4a22fdc2",
   "metadata": {
    "vscode": {
     "languageId": "r"
    }
   },
   "outputs": [],
   "source": [
    "#creates list of unique sets that the secifed target card has, splits the cards data\n",
    "#according to different sets\n",
    "\n",
    "target_card_name = 'Mew'\n",
    "set_split <- unique(pokemon_data_list[[name]]$set_name)\n",
    "specified_set_list <- split(pokemon_data_list[[target_card_name]], pokemon_data_list[[target_card_name]]$set_name)"
   ]
  },
  {
   "cell_type": "code",
   "execution_count": 12,
   "id": "ac993a77-67c7-4002-99f1-9614013e435a",
   "metadata": {
    "vscode": {
     "languageId": "r"
    }
   },
   "outputs": [
    {
     "name": "stdout",
     "output_type": "stream",
     "text": [
      "Data for 2021 Pokemon Celebrations :\n",
      "# A tibble: 56 x 4\n",
      "   Date       Grade Price `Sale Type`\n",
      "   <chr>      <dbl> <dbl> <chr>      \n",
      " 1 2023-10-26    10 40    Auction    \n",
      " 2 2023-10-15     9 12.0  Auction    \n",
      " 3 2023-10-09     8  3.25 Auction    \n",
      " 4 2023-10-04     9  9.99 Auction    \n",
      " 5 2023-09-23     9  3    Auction    \n",
      " 6 2023-09-21     9 17.2  Auction    \n",
      " 7 2023-09-04     8  3.25 Auction    \n",
      " 8 2023-09-04     8  6.5  Auction    \n",
      " 9 2023-09-01     9 15.5  Auction    \n",
      "10 2023-08-21     9 11.5  Auction    \n",
      "# ... with 46 more rows\n",
      "Data for 2002 Expedition Base Set :\n",
      "# A tibble: 51 x 4\n",
      "   Date       Grade Price `Sale Type`\n",
      "   <chr>      <dbl> <dbl> <chr>      \n",
      " 1 2023-10-30    10  74   Auction    \n",
      " 2 2023-10-08     9  35.3 Auction    \n",
      " 3 2023-09-11    10  70   Auction    \n",
      " 4 2023-09-04    10  82   Auction    \n",
      " 5 2023-08-02     8  40   Auction    \n",
      " 6 2023-06-27     9  41   Auction    \n",
      " 7 2023-05-20    10  89.2 Auction    \n",
      " 8 2023-05-01     8  32   Auction    \n",
      " 9 2023-04-30     9  30.4 Auction    \n",
      "10 2023-04-02    10 120.  Auction    \n",
      "# ... with 41 more rows\n",
      "Data for 2019 Hidden Fates :\n",
      "# A tibble: 30 x 4\n",
      "   Date       Grade Price `Sale Type`\n",
      "   <chr>      <dbl> <dbl> <chr>      \n",
      " 1 2023-07-16     9  9.99 Auction    \n",
      " 2 2023-06-25     9 12.7  Auction    \n",
      " 3 2023-05-21     9 14.3  Auction    \n",
      " 4 2023-03-20    10 22.5  Auction    \n",
      " 5 2023-03-17     9  6.01 Auction    \n",
      " 6 2023-02-26     9 28.6  Auction    \n",
      " 7 2022-10-28    10 41    Auction    \n",
      " 8 2022-10-26    10 14.5  Auction    \n",
      " 9 2022-09-23     9  8    Auction    \n",
      "10 2022-09-08     9  9.5  Auction    \n",
      "# ... with 20 more rows\n"
     ]
    }
   ],
   "source": [
    "\n",
    "for (target_card_set in set_split) {\n",
    "  # Check if the target card name exists in the list\n",
    "  if (target_card_set %in% set_split) {\n",
    "    # Access the dataset for the target card name\n",
    "    target_card_data <- specified_set_list[[target_card_set]]\n",
    "    cat(\"Data for\", target_card_set, \":\\n\")\n",
    "    print(target_card_data[1:4])\n",
    "  } else {\n",
    "    cat(\"Dataset not found for\", target_card_name1, \"\\n\")\n",
    "  }\n",
    "}\n"
   ]
  },
  {
   "cell_type": "code",
   "execution_count": 13,
   "id": "d80894ad-0658-4402-89b5-09f4745db8e6",
   "metadata": {
    "vscode": {
     "languageId": "r"
    }
   },
   "outputs": [
    {
     "name": "stdout",
     "output_type": "stream",
     "text": [
      "Data for card_name: HO-Oh and set: 2001 Neo Revelation :\n",
      "\n",
      "# A tibble: 50 x 4\n",
      "   Date       Grade Price `Sale Type`\n",
      "   <chr>      <dbl> <dbl> <chr>      \n",
      " 1 2023-10-08     8 14.5  Auction    \n",
      " 2 2023-09-14     8  9.5  Auction    \n",
      " 3 2023-09-14     9 25.5  Auction    \n",
      " 4 2023-06-29     8 23.5  Auction    \n",
      " 5 2023-04-29     6 20.0  Auction    \n",
      " 6 2023-04-02     9 25    Auction    \n",
      " 7 2023-03-07     6  9.99 Auction    \n",
      " 8 2023-03-06     9 33    Auction    \n",
      " 9 2023-03-04     6 25.0  Auction    \n",
      "10 2023-01-23     9 45.9  Auction    \n",
      "# ... with 40 more rows\n",
      "\n",
      "Summary Statistics:\n",
      "     mean    median       min       max     range       IQR \n",
      " 34.17486  25.50000   8.27000 190.00000 181.73000  14.96000 \n",
      "\n",
      "Number of observations:[1] 37\n",
      "\n",
      "\n",
      "\n",
      "Data for card_name: HO-Oh and set: 2005 EX Unseen Forces :\n",
      "\n",
      "# A tibble: 50 x 4\n",
      "   Date       Grade Price `Sale Type`\n",
      "   <chr>      <dbl> <dbl> <chr>      \n",
      " 1 2023-09-09    10  45.6 Auction    \n",
      " 2 2023-07-06    10  31.0 Auction    \n",
      " 3 2023-06-30    10  50   Auction    \n",
      " 4 2023-04-23     8  38.4 Auction    \n",
      " 5 2023-03-20    10  26   Auction    \n",
      " 6 2023-03-20    10  53   Auction    \n",
      " 7 2023-03-19     9  30   Auction    \n",
      " 8 2023-03-13    10  30   Auction    \n",
      " 9 2023-03-09     7  18.2 Auction    \n",
      "10 2023-02-20    10  45   Auction    \n",
      "# ... with 40 more rows\n",
      "\n",
      "Summary Statistics:\n",
      "     mean    median       min       max     range       IQR \n",
      " 47.05593  45.00000   6.99000 185.00000 178.01000  24.00000 \n",
      "\n",
      "Number of observations:[1] 27\n",
      "\n",
      "\n",
      "\n",
      "Data for card_name: HO-Oh and set: 2018 Lost Thunder :\n",
      "\n",
      "# A tibble: 50 x 4\n",
      "   Date       Grade Price `Sale Type`\n",
      "   <chr>      <dbl> <dbl> <chr>      \n",
      " 1 2020-04-26     9   8.5 Best Offer \n",
      " 2 <NA>          NA  NA   <NA>       \n",
      " 3 <NA>          NA  NA   <NA>       \n",
      " 4 <NA>          NA  NA   <NA>       \n",
      " 5 <NA>          NA  NA   <NA>       \n",
      " 6 <NA>          NA  NA   <NA>       \n",
      " 7 <NA>          NA  NA   <NA>       \n",
      " 8 <NA>          NA  NA   <NA>       \n",
      " 9 <NA>          NA  NA   <NA>       \n",
      "10 <NA>          NA  NA   <NA>       \n",
      "# ... with 40 more rows\n",
      "\n",
      "Summary Statistics:\n",
      "  mean median    min    max  range    IQR \n",
      "   8.5    8.5    8.5    8.5    0.0    0.0 \n",
      "\n",
      "Number of observations:[1] 1\n",
      "\n",
      "\n",
      "\n",
      "Data for card_name: HO-Oh and set: 2021 Pokemon Celebrations :\n",
      "\n",
      "# A tibble: 50 x 4\n",
      "   Date       Grade Price `Sale Type`\n",
      "   <chr>      <dbl> <dbl> <chr>      \n",
      " 1 2023-10-30     9 12.5  Auction    \n",
      " 2 2023-10-30     8  8.5  Auction    \n",
      " 3 2023-10-27     9  7    Auction    \n",
      " 4 2023-10-18     9  9.7  Auction    \n",
      " 5 2023-10-06    10 29.1  Auction    \n",
      " 6 2023-09-22     8  9.99 Auction    \n",
      " 7 2023-09-21     9  9.91 Auction    \n",
      " 8 2023-08-22     9  8    Auction    \n",
      " 9 2023-08-18     9  8.5  Auction    \n",
      "10 2023-08-17     9  4.25 Auction    \n",
      "# ... with 40 more rows\n",
      "\n",
      "Summary Statistics:\n",
      "   mean  median     min     max   range     IQR \n",
      " 46.312  12.500   0.990 305.000 304.010  53.250 \n",
      "\n",
      "Number of observations:[1] 25\n",
      "\n",
      "\n",
      "\n",
      "Data for card_name: Zekrom and set: 2021 Pokemon Celebrations :\n",
      "\n",
      "# A tibble: 50 x 4\n",
      "   Date       Grade Price `Sale Type`\n",
      "   <chr>      <dbl> <dbl> <chr>      \n",
      " 1 2023-10-18     9  9.73 Auction    \n",
      " 2 2023-10-13     9  5.5  Auction    \n",
      " 3 2023-09-21     9  9.82 Auction    \n",
      " 4 2023-09-05     9  1.25 Auction    \n",
      " 5 2023-08-17     9  1.8  Auction    \n",
      " 6 2023-08-06    10 18    Auction    \n",
      " 7 2023-07-08    10 51    Auction    \n",
      " 8 2023-05-20     9 13.5  Auction    \n",
      " 9 2023-04-19     9 12.0  Auction    \n",
      "10 2023-03-25     9  7.5  Auction    \n",
      "# ... with 40 more rows\n",
      "\n",
      "Summary Statistics:\n",
      "     mean    median       min       max     range       IQR \n",
      " 17.84116   6.00000   0.99000 202.50000 201.51000   6.71000 \n",
      "\n",
      "Number of observations:[1] 43\n",
      "\n",
      "\n",
      "\n"
     ]
    }
   ],
   "source": [
    "#great for grouping the needed data\n",
    "selected_card_names <- unique(pokemon$card_name)[1:2]\n",
    "pokemon_split_by_card <- split(pokemon, pokemon$card_name)\n",
    "\n",
    "# Loop through each card_name subset\n",
    "for (card_name in selected_card_names) {\n",
    "  # Split each card_name subset by 'set'\n",
    "  card_name_subset <- pokemon_split_by_card[[card_name]]\n",
    "  pokemon_split_by_set <- split(card_name_subset, card_name_subset$set_name)\n",
    "\n",
    "  # Print or process each set subset\n",
    "  for (set_name1 in names(pokemon_split_by_set)) {\n",
    "    set_subset <- pokemon_split_by_set[[set_name1]]\n",
    "    set_subset <- set_subset[ , 1:4]\n",
    "    \n",
    "    \n",
    "    summary_stats <- c(\n",
    "      mean = mean(set_subset$Price),\n",
    "      median = median(set_subset$Price),\n",
    "      min = min(set_subset$Price),\n",
    "      max = max(set_subset$Price),\n",
    "      range = max(set_subset$Price) - min(set_subset$Price),\n",
    "      IQR = IQR(set_subset$Price))\n",
    "      n =length(set_subset$Price)\n",
    "    # Your processing code for each 'card_name' and 'set'\n",
    "    cat(\"Data for card_name:\", card_name, \"and set:\", set_name1, \":\\n\")\n",
    "    cat(\"\\n\")\n",
    "    print(set_subset[1:50, ])  # Print first 4 rows as an example\n",
    "    cat(\"\\nSummary Statistics:\\n\")\n",
    "    print(summary_stats)\n",
    "    cat(\"\\nNumber of observations:\")\n",
    "    print(n)\n",
    "    cat(\"\\n\")\n",
    "    cat(\"\\n\")\n",
    "    cat(\"\\n\")\n",
    "  }\n",
    "}"
   ]
  },
  {
   "cell_type": "code",
   "execution_count": 14,
   "id": "bd2e9f31-d25a-4119-b32d-da5daadb1ec8",
   "metadata": {
    "vscode": {
     "languageId": "r"
    }
   },
   "outputs": [
    {
     "name": "stdout",
     "output_type": "stream",
     "text": [
      "Data for card_name: Venusaur   Holo and set: 1999 Base Set :\n",
      "# A tibble: 1,696 x 4\n",
      "   Date       Grade Price `Sale Type`\n",
      "   <date>     <dbl> <dbl> <chr>      \n",
      " 1 2023-03-20     9 260   Auction    \n",
      " 2 2023-03-20     9 220.  Auction    \n",
      " 3 2023-03-19     3  51   Auction    \n",
      " 4 2023-03-19     5  62.5 Auction    \n",
      " 5 2023-03-19     8 188.  Auction    \n",
      " 6 2023-03-19     6  81   Auction    \n",
      " 7 2023-03-19     8 118.  Auction    \n",
      " 8 2023-03-18     9 231.  Auction    \n",
      " 9 2023-03-14     7  80   Auction    \n",
      "10 2023-03-14     9 255   Auction    \n",
      "# ... with 1,686 more rows\n",
      "Summary Stats: 306.4572 157.515 4 6600 6596 252.2875 1696 \n",
      "\n",
      "Data for card_name: Charizard Reverse Foil and set: 2016 Evolutions :\n",
      "# A tibble: 1,456 x 4\n",
      "   Date       Grade Price `Sale Type`\n",
      "   <date>     <dbl> <dbl> <chr>      \n",
      " 1 2022-12-14     9  70   Auction    \n",
      " 2 2022-11-19    10 325   Auction    \n",
      " 3 2022-11-16     9 164   Auction    \n",
      " 4 2022-11-08     8  55.0 Auction    \n",
      " 5 2022-11-07    10 270   Auction    \n",
      " 6 2022-11-03     9  83.3 Auction    \n",
      " 7 2022-11-03     8  48.9 Auction    \n",
      " 8 2022-11-02     9  86   Auction    \n",
      " 9 2022-11-01     9  74.0 Auction    \n",
      "10 2022-11-01     9  61   Auction    \n",
      "# ... with 1,446 more rows\n",
      "Summary Stats: 182.2913 102.5 1.99 3600 3598.01 149.625 1456 \n",
      "\n",
      "Data for card_name: Charizard   Holo and set: 1999 Base Set :\n",
      "# A tibble: 3,766 x 4\n",
      "   Date       Grade Price `Sale Type`\n",
      "   <date>     <dbl> <dbl> <chr>      \n",
      " 1 2023-03-19     8  455  Auction    \n",
      " 2 2023-03-19     1  124. Auction    \n",
      " 3 2023-03-19     4  146. Auction    \n",
      " 4 2023-03-19     9 1025  Auction    \n",
      " 5 2023-03-19     5  172. Auction    \n",
      " 6 2023-03-19     8  445  Auction    \n",
      " 7 2023-03-19     6  510  Auction    \n",
      " 8 2023-03-18     8  454  Auction    \n",
      " 9 2023-03-18     9 1141. Auction    \n",
      "10 2023-03-18     8  500  Auction    \n",
      "# ... with 3,756 more rows\n",
      "Summary Stats: 686.5845 256.5 13.99 30800 30786.01 640 3766 \n",
      "\n",
      "Data for card_name: Charizard   Holo and set: 2016 Evolutions :\n",
      "# A tibble: 1,869 x 4\n",
      "   Date       Grade Price `Sale Type`\n",
      "   <date>     <dbl> <dbl> <chr>      \n",
      " 1 2023-03-16     8  80   Auction    \n",
      " 2 2023-03-15     9  93   Auction    \n",
      " 3 2023-03-15     9  83.5 Auction    \n",
      " 4 2023-03-15     7  40.0 Auction    \n",
      " 5 2023-03-15     9  88   Auction    \n",
      " 6 2023-03-12     8 149.  Auction    \n",
      " 7 2023-03-12     9 153.  Auction    \n",
      " 8 2023-03-11     8  56   Auction    \n",
      " 9 2023-03-11     8  51   Auction    \n",
      "10 2023-03-11     8  56   Auction    \n",
      "# ... with 1,859 more rows\n",
      "Summary Stats: 228.0408 117.5 3.25 7500 7496.75 227.28 1869 \n",
      "\n",
      "Data for card_name: Blastoise   Holo and set: 1999 Base Set :\n",
      "# A tibble: 2,049 x 4\n",
      "   Date       Grade Price `Sale Type`\n",
      "   <date>     <dbl> <dbl> <chr>      \n",
      " 1 2023-04-20     7 105   Auction    \n",
      " 2 2023-04-20     7  84   Auction    \n",
      " 3 2023-04-20     6  71   Auction    \n",
      " 4 2023-04-20     7 150.  Auction    \n",
      " 5 2023-04-19     6  66.9 Auction    \n",
      " 6 2023-04-19     4  29   Auction    \n",
      " 7 2023-04-18     8 173   Auction    \n",
      " 8 2023-04-10     5  56   Auction    \n",
      " 9 2023-04-07     9 320   Auction    \n",
      "10 2023-04-05     8 185   Auction    \n",
      "# ... with 2,039 more rows\n",
      "Summary Stats: 330.8189 155.5 5.5 8500 8494.5 296 2049 \n",
      "\n",
      "Data for card_name: Machamp 1st Edition  Holo and set: 1999 Base Set :\n",
      "# A tibble: 2,043 x 4\n",
      "   Date       Grade Price `Sale Type`\n",
      "   <date>     <dbl> <dbl> <chr>      \n",
      " 1 2023-04-20     7  44.4 Auction    \n",
      " 2 2023-04-18     9 158.  Auction    \n",
      " 3 2023-04-18     7  46   Auction    \n",
      " 4 2023-04-18     7  37   Auction    \n",
      " 5 2023-04-18     8  36   Auction    \n",
      " 6 2023-04-10     8  86   Auction    \n",
      " 7 2023-04-09     7  50   Auction    \n",
      " 8 2023-04-06     8  53   Auction    \n",
      " 9 2023-04-05     3  20   Auction    \n",
      "10 2023-04-05     2  20.5 Auction    \n",
      "# ... with 2,033 more rows\n",
      "Summary Stats: 158.8596 61 0.99 6100 6099.01 119 2043 \n",
      "\n",
      "Data for card_name: Full Art/M Charizard EX   Holo and set: 2016 Evolutions :\n",
      "# A tibble: 1,614 x 4\n",
      "   Date       Grade Price `Sale Type`\n",
      "   <date>     <dbl> <dbl> <chr>      \n",
      " 1 2023-04-19     8  27   Auction    \n",
      " 2 2023-04-19    10 126.  Auction    \n",
      " 3 2023-04-19    10 138.  Auction    \n",
      " 4 2023-04-10     9  38   Auction    \n",
      " 5 2023-04-09     9  57   Auction    \n",
      " 6 2023-04-05     9  51.3 Auction    \n",
      " 7 2023-04-05     9  50   Auction    \n",
      " 8 2023-04-05     9  59.6 Auction    \n",
      " 9 2023-04-04    10 104.  Auction    \n",
      "10 2023-04-02     9  68.6 Auction    \n",
      "# ... with 1,604 more rows\n",
      "Summary Stats: 123.3572 71 6.5 1375 1368.5 113.1525 1614 \n",
      "\n",
      "Data for card_name: Full Art/Charizard GX and set: 2019 Hidden Fates :\n",
      "# A tibble: 1,019 x 4\n",
      "   Date       Grade Price `Sale Type`\n",
      "   <date>     <dbl> <dbl> <chr>      \n",
      " 1 2023-04-21     9  320  Auction    \n",
      " 2 2023-04-20     7  208. Auction    \n",
      " 3 2023-04-18    10  700  Auction    \n",
      " 4 2023-04-10    10  758  Auction    \n",
      " 5 2023-04-09    10  710  Auction    \n",
      " 6 2023-04-07     9  385  Auction    \n",
      " 7 2023-04-06    10  747. Auction    \n",
      " 8 2023-04-04     8  325. Auction    \n",
      " 9 2023-04-03    10  580  Auction    \n",
      "10 2023-04-03     9  355  Auction    \n",
      "# ... with 1,009 more rows\n",
      "Summary Stats: 850.1702 750 22.64 2225 2202.36 723.95 1019 \n",
      "\n",
      "Data for card_name: Full Art/Charizard Vmax Portuguese  Holo and set: 2020 Darkness Ablaze :\n",
      "# A tibble: 841 x 4\n",
      "   Date       Grade Price `Sale Type`\n",
      "   <date>     <dbl> <dbl> <chr>      \n",
      " 1 2023-03-20    10  97   Auction    \n",
      " 2 2023-03-20    10  89   Auction    \n",
      " 3 2023-03-20    10  91   Auction    \n",
      " 4 2023-03-19    10  84.0 Auction    \n",
      " 5 2023-03-19    10  75.3 Auction    \n",
      " 6 2023-03-19    10 124.  Auction    \n",
      " 7 2023-03-19    10  97   Auction    \n",
      " 8 2023-03-19    10 122.  Auction    \n",
      " 9 2023-03-19    10 150.  Auction    \n",
      "10 2023-03-18    10 106.  Auction    \n",
      "# ... with 831 more rows\n",
      "Summary Stats: 281.4003 275 29.26 1800 1770.74 216.5 841 \n",
      "\n",
      "Data for card_name: Full Art/Charizard Vmax Secret  Holo and set: 2020 Champions Path :\n",
      "# A tibble: 823 x 4\n",
      "   Date       Grade Price `Sale Type`\n",
      "   <date>     <dbl> <dbl> <chr>      \n",
      " 1 2023-10-22    10  51   Auction    \n",
      " 2 2023-10-16     9  30.2 Auction    \n",
      " 3 2023-10-02     9  21.5 Auction    \n",
      " 4 2023-09-18     9  27   Auction    \n",
      " 5 2023-08-14     9  31.4 Auction    \n",
      " 6 2023-07-28    10  76.5 Auction    \n",
      " 7 2023-07-16     9  20.5 Auction    \n",
      " 8 2023-04-29     9  23   Auction    \n",
      " 9 2023-04-21     8  20   Auction    \n",
      "10 2023-03-27     8  11.5 Auction    \n",
      "# ... with 813 more rows\n",
      "Summary Stats: 639.274 607.04 11.5 4000 3988.5 372.495 823 \n",
      "\n"
     ]
    },
    {
     "data": {
      "text/html": [
       "10"
      ],
      "text/latex": [
       "10"
      ],
      "text/markdown": [
       "10"
      ],
      "text/plain": [
       "[1] 10"
      ]
     },
     "metadata": {},
     "output_type": "display_data"
    }
   ],
   "source": [
    "#install.packages(\"lubridate\", type = 'binary')\n",
    "#library(tidyverse)\n",
    "library(lubridate)\n",
    "\n",
    "#great for grouping the needed data\n",
    "selected_card_names <- unique(pokemon$card_name)\n",
    "pokemon_split_by_card <- split(pokemon, pokemon$card_name)\n",
    "counter <-0\n",
    "how_much_per_year <-200\n",
    "# Loop through each card_name subset\n",
    "for (card_name in selected_card_names) {\n",
    "  # Split each card_name subset by 'set'\n",
    "  card_name_subset <- pokemon_split_by_card[[card_name]]\n",
    "  pokemon_split_by_set <- split(card_name_subset, card_name_subset$set_name)\n",
    "\n",
    "  # Print or process each set subset\n",
    "  for (set_name1 in names(pokemon_split_by_set)) {\n",
    "    set_subset <- pokemon_split_by_set[[set_name1]]\n",
    "    set_subset$Date <- as.Date(set_subset$Date)    \n",
    "    if (length(set_subset$set_name) / length(unique(year(set_subset$Date))) >= how_much_per_year) {\n",
    "      set_subset <- set_subset[, 1:4]\n",
    "\n",
    "      summary_stats <- c(\n",
    "        mean = mean(set_subset$Price),\n",
    "        median = median(set_subset$Price),\n",
    "        min = min(set_subset$Price),\n",
    "        max = max(set_subset$Price),\n",
    "        range = max(set_subset$Price) - min(set_subset$Price),\n",
    "        IQR = IQR(set_subset$Price),\n",
    "        n = length(set_subset$Price)\n",
    "      )\n",
    "      counter <- counter +1\n",
    "      # Your processing code for each 'card_name' and 'set'\n",
    "      cat(\"Data for card_name:\", card_name, \"and set:\", set_name1, \":\\n\")\n",
    "      print(set_subset)\n",
    "      cat(\"Summary Stats:\", summary_stats, \"\\n\\n\")\n",
    "    }\n",
    "  }\n",
    "}\n",
    "counter"
   ]
  },
  {
   "cell_type": "code",
   "execution_count": 16,
   "id": "3d237799-cec4-4c7b-93b6-61c8508abcf5",
   "metadata": {
    "vscode": {
     "languageId": "r"
    }
   },
   "outputs": [
    {
     "name": "stdout",
     "output_type": "stream",
     "text": [
      "Data for card_name: Venusaur   Holo and set: 1999 Base Set  saved to  output_datasets/Venusaur___Holo_1999_Base_Set.csv \n",
      "Summary Stats: 306.4572 157.515 4 6600 6596 252.2875 1696 \n",
      "\n",
      "Data for card_name: Charizard Reverse Foil and set: 2016 Evolutions  saved to  output_datasets/Charizard_Reverse_Foil_2016_Evolutions.csv \n",
      "Summary Stats: 182.2913 102.5 1.99 3600 3598.01 149.625 1456 \n",
      "\n",
      "Data for card_name: Charizard   Holo and set: 1999 Base Set  saved to  output_datasets/Charizard___Holo_1999_Base_Set.csv \n",
      "Summary Stats: 686.5845 256.5 13.99 30800 30786.01 640 3766 \n",
      "\n",
      "Data for card_name: Charizard   Holo and set: 2016 Evolutions  saved to  output_datasets/Charizard___Holo_2016_Evolutions.csv \n",
      "Summary Stats: 228.0408 117.5 3.25 7500 7496.75 227.28 1869 \n",
      "\n",
      "Data for card_name: Blastoise   Holo and set: 1999 Base Set  saved to  output_datasets/Blastoise___Holo_1999_Base_Set.csv \n",
      "Summary Stats: 330.8189 155.5 5.5 8500 8494.5 296 2049 \n",
      "\n",
      "Data for card_name: Machamp 1st Edition  Holo and set: 1999 Base Set  saved to  output_datasets/Machamp_1st_Edition__Holo_1999_Base_Set.csv \n",
      "Summary Stats: 158.8596 61 0.99 6100 6099.01 119 2043 \n",
      "\n",
      "Data for card_name: Full Art/M Charizard EX   Holo and set: 2016 Evolutions  saved to  output_datasets/Full_Art_M_Charizard_EX___Holo_2016_Evolutions.csv \n",
      "Summary Stats: 123.3572 71 6.5 1375 1368.5 113.1525 1614 \n",
      "\n",
      "Data for card_name: Full Art/Charizard GX and set: 2019 Hidden Fates  saved to  output_datasets/Full_Art_Charizard_GX_2019_Hidden_Fates.csv \n",
      "Summary Stats: 850.1702 750 22.64 2225 2202.36 723.95 1019 \n",
      "\n",
      "Data for card_name: Full Art/Charizard Vmax Portuguese  Holo and set: 2020 Darkness Ablaze  saved to  output_datasets/Full_Art_Charizard_Vmax_Portuguese__Holo_2020_Darkness_Ablaze.csv \n",
      "Summary Stats: 281.4003 275 29.26 1800 1770.74 216.5 841 \n",
      "\n",
      "Data for card_name: Full Art/Charizard Vmax Secret  Holo and set: 2020 Champions Path  saved to  output_datasets/Full_Art_Charizard_Vmax_Secret__Holo_2020_Champions_Path.csv \n",
      "Summary Stats: 639.274 607.04 11.5 4000 3988.5 372.495 823 \n",
      "\n",
      "Total datasets saved: 10 \n"
     ]
    }
   ],
   "source": [
    "if (!dir.exists(\"output_datasets\")) {\n",
    "  dir.create(\"output_datasets\")\n",
    "}\n",
    "#great for grouping the needed data\n",
    "selected_card_names <- unique(pokemon$card_name)\n",
    "pokemon_split_by_card <- split(pokemon, pokemon$card_name)\n",
    "counter <-0\n",
    "how_much_per_year <- 200\n",
    "\n",
    "\n",
    "# Loop through each card_name subset\n",
    "for (card_name in selected_card_names) {\n",
    "  # Split each card_name subset by 'set'\n",
    "  card_name_subset <- pokemon_split_by_card[[card_name]]\n",
    "  pokemon_split_by_set <- split(card_name_subset, card_name_subset$set_name)\n",
    "\n",
    "  # Print or process each set subset\n",
    "  for (set_name1 in names(pokemon_split_by_set)) {\n",
    "    set_subset <- pokemon_split_by_set[[set_name1]]\n",
    "    set_subset$Date <- as.Date(set_subset$Date)    \n",
    "    if (length(set_subset$set_name) / length(unique(year(set_subset$Date))) >= how_much_per_year) {\n",
    "      set_subset <- set_subset[, 1:4]\n",
    "\n",
    "      summary_stats <- c(\n",
    "        mean = mean(set_subset$Price),\n",
    "        median = median(set_subset$Price),\n",
    "        min = min(set_subset$Price),\n",
    "        max = max(set_subset$Price),\n",
    "        range = max(set_subset$Price) - min(set_subset$Price),\n",
    "        IQR = IQR(set_subset$Price),\n",
    "        n = length(set_subset$Price)\n",
    "      )\n",
    "      counter <- counter +1\n",
    "      filename <- paste0(\"output_datasets/\", gsub(\"[^a-zA-Z0-9]\", \"_\", card_name), \"_\", gsub(\"[^a-zA-Z0-9]\", \"_\", set_name1), \".csv\")\n",
    "\n",
    "      # Save the dataset to a CSV file\n",
    "      write.csv(set_subset, filename, row.names = FALSE)\n",
    "\n",
    "      cat(\"Data for card_name:\", card_name, \"and set:\", set_name1, \" saved to \", filename, \"\\n\")\n",
    "      cat(\"Summary Stats:\", summary_stats, \"\\n\\n\")\n",
    "    }\n",
    "  }\n",
    "}\n",
    "cat(\"Total datasets saved:\", counter, \"\\n\")"
   ]
  },
  {
   "cell_type": "code",
   "execution_count": null,
   "id": "460db28e-8800-4709-a6dd-fdceb37b9198",
   "metadata": {
    "vscode": {
     "languageId": "r"
    }
   },
   "outputs": [],
   "source": []
  }
 ],
 "metadata": {
  "kernelspec": {
   "display_name": "R",
   "language": "R",
   "name": "ir"
  },
  "language_info": {
   "codemirror_mode": "r",
   "file_extension": ".r",
   "mimetype": "text/x-r-source",
   "name": "R",
   "pygments_lexer": "r",
   "version": "3.6.1"
  }
 },
 "nbformat": 4,
 "nbformat_minor": 5
}
