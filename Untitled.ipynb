{
 "cells": [
  {
   "cell_type": "code",
   "execution_count": 60,
   "id": "11876fa6-e258-430f-bf07-8e5e799733f7",
   "metadata": {},
   "outputs": [
    {
     "name": "stderr",
     "output_type": "stream",
     "text": [
      "Updating HTML index of packages in '.Library'\n",
      "\n",
      "Making 'packages.html' ...\n",
      " done\n",
      "\n"
     ]
    }
   ],
   "source": [
    "#install.packages(\"ggplot2\")\n",
    "library(ggplot2)"
   ]
  },
  {
   "cell_type": "code",
   "execution_count": 3,
   "id": "3ec4d238-d170-40ba-b0bf-c1da047b1d13",
   "metadata": {},
   "outputs": [],
   "source": [
    "blastouse_99 = read.csv('merged_datasets_final/merged_Blastoise___Holo_1999_Base_Set.csv')\n",
    "\n",
    "#convert prices to returns\n",
    "grades <- grep(\"grade[0-9]+price\", names(blastouse_99), value = TRUE)\n",
    "for(grade in grades) {\n",
    "  blastouse_99[paste(grade, \"return\", sep = \"_\")] <- c(NA, diff(log(blastouse_99[[grade]])))\n",
    "}\n",
    "\n",
    "#convert adjclosestock to returns\n",
    "blastouse_99$adjclosestock_return <- c(NA, diff(log(blastouse_99$adjclosestock)))\n",
    "\n",
    "#remove rows with NA in the newly created return columns\n",
    "blastouse_99 <- na.omit(blastouse_99)\n"
   ]
  },
  {
   "cell_type": "code",
   "execution_count": 2,
   "id": "3969889e-aa11-4765-a07c-f7f064fe543d",
   "metadata": {},
   "outputs": [
    {
     "data": {
      "text/html": [
       "<table class=\"dataframe\">\n",
       "<caption>A data.frame: 6 × 20</caption>\n",
       "<thead>\n",
       "\t<tr><th></th><th scope=col>date</th><th scope=col>grade5price</th><th scope=col>grade6price</th><th scope=col>grade7price</th><th scope=col>grade8price</th><th scope=col>grade9price</th><th scope=col>grade10price</th><th scope=col>adjclosestock</th><th scope=col>volume</th><th scope=col>adjclosebond</th><th scope=col>stockreturns</th><th scope=col>bondadjusted</th><th scope=col>excessreturns</th><th scope=col>grade5price_return</th><th scope=col>grade6price_return</th><th scope=col>grade7price_return</th><th scope=col>grade8price_return</th><th scope=col>grade9price_return</th><th scope=col>grade10price_return</th><th scope=col>adjclosestock_return</th></tr>\n",
       "\t<tr><th></th><th scope=col>&lt;chr&gt;</th><th scope=col>&lt;dbl&gt;</th><th scope=col>&lt;dbl&gt;</th><th scope=col>&lt;dbl&gt;</th><th scope=col>&lt;dbl&gt;</th><th scope=col>&lt;dbl&gt;</th><th scope=col>&lt;dbl&gt;</th><th scope=col>&lt;dbl&gt;</th><th scope=col>&lt;dbl&gt;</th><th scope=col>&lt;dbl&gt;</th><th scope=col>&lt;dbl&gt;</th><th scope=col>&lt;dbl&gt;</th><th scope=col>&lt;dbl&gt;</th><th scope=col>&lt;dbl&gt;</th><th scope=col>&lt;dbl&gt;</th><th scope=col>&lt;dbl&gt;</th><th scope=col>&lt;dbl&gt;</th><th scope=col>&lt;dbl&gt;</th><th scope=col>&lt;dbl&gt;</th><th scope=col>&lt;dbl&gt;</th></tr>\n",
       "</thead>\n",
       "<tbody>\n",
       "\t<tr><th scope=row>2</th><td>2016-10-01</td><td>10</td><td>18.25</td><td>25.0</td><td>48.95125</td><td>76.0000</td><td>222.5</td><td>2126.15</td><td>72915530000</td><td>2.589</td><td>-0.0194256789</td><td>0.02589</td><td>-0.127730484</td><td>0</td><td>0.0000000</td><td> 0.0000000</td><td> 0.06207482</td><td>-0.2518163</td><td> 0.0000000</td><td>-0.0196168370</td></tr>\n",
       "\t<tr><th scope=row>3</th><td>2016-11-01</td><td>10</td><td>18.25</td><td>25.0</td><td>29.51750</td><td>76.0000</td><td>222.5</td><td>2198.81</td><td>88445380000</td><td>3.017</td><td> 0.0341745218</td><td>0.03017</td><td>-0.131140262</td><td>0</td><td>0.0000000</td><td> 0.0000000</td><td>-0.50584160</td><td> 0.0000000</td><td> 0.0000000</td><td> 0.0336035450</td></tr>\n",
       "\t<tr><th scope=row>4</th><td>2016-12-01</td><td>10</td><td>24.99</td><td>25.0</td><td>26.72000</td><td>39.6200</td><td>222.5</td><td>2238.83</td><td>75344550000</td><td>3.063</td><td> 0.0182007624</td><td>0.03063</td><td> 0.002953827</td><td>0</td><td>0.3143107</td><td> 0.0000000</td><td>-0.09957096</td><td>-0.6513993</td><td> 0.0000000</td><td> 0.0180371113</td></tr>\n",
       "\t<tr><th scope=row>5</th><td>2017-01-01</td><td>10</td><td>24.99</td><td>20.5</td><td>31.00000</td><td>78.4175</td><td>192.5</td><td>2278.87</td><td>70576420000</td><td>3.051</td><td> 0.0178843582</td><td>0.03051</td><td> 0.021802036</td><td>0</td><td>0.0000000</td><td>-0.1984509</td><td> 0.14857486</td><td> 0.6827131</td><td>-0.1448309</td><td> 0.0177263146</td></tr>\n",
       "\t<tr><th scope=row>6</th><td>2017-02-01</td><td>10</td><td>24.99</td><td>20.5</td><td>23.25000</td><td>55.9920</td><td>151.0</td><td>2363.64</td><td>69260940000</td><td>2.968</td><td> 0.0371981601</td><td>0.02968</td><td> 0.064402414</td><td>0</td><td>0.0000000</td><td> 0.0000000</td><td>-0.28768207</td><td>-0.3368383</td><td>-0.2428163</td><td> 0.0365230007</td></tr>\n",
       "\t<tr><th scope=row>7</th><td>2017-03-01</td><td>10</td><td>24.99</td><td>20.5</td><td>24.50000</td><td>76.5120</td><td>151.0</td><td>2362.72</td><td>81664010000</td><td>3.018</td><td>-0.0003891971</td><td>0.03018</td><td>-0.017235543</td><td>0</td><td>0.0000000</td><td> 0.0000000</td><td> 0.05236799</td><td> 0.3122388</td><td> 0.0000000</td><td>-0.0003892729</td></tr>\n",
       "</tbody>\n",
       "</table>\n"
      ],
      "text/latex": [
       "A data.frame: 6 × 20\n",
       "\\begin{tabular}{r|llllllllllllllllllll}\n",
       "  & date & grade5price & grade6price & grade7price & grade8price & grade9price & grade10price & adjclosestock & volume & adjclosebond & stockreturns & bondadjusted & excessreturns & grade5price\\_return & grade6price\\_return & grade7price\\_return & grade8price\\_return & grade9price\\_return & grade10price\\_return & adjclosestock\\_return\\\\\n",
       "  & <chr> & <dbl> & <dbl> & <dbl> & <dbl> & <dbl> & <dbl> & <dbl> & <dbl> & <dbl> & <dbl> & <dbl> & <dbl> & <dbl> & <dbl> & <dbl> & <dbl> & <dbl> & <dbl> & <dbl>\\\\\n",
       "\\hline\n",
       "\t2 & 2016-10-01 & 10 & 18.25 & 25.0 & 48.95125 & 76.0000 & 222.5 & 2126.15 & 72915530000 & 2.589 & -0.0194256789 & 0.02589 & -0.127730484 & 0 & 0.0000000 &  0.0000000 &  0.06207482 & -0.2518163 &  0.0000000 & -0.0196168370\\\\\n",
       "\t3 & 2016-11-01 & 10 & 18.25 & 25.0 & 29.51750 & 76.0000 & 222.5 & 2198.81 & 88445380000 & 3.017 &  0.0341745218 & 0.03017 & -0.131140262 & 0 & 0.0000000 &  0.0000000 & -0.50584160 &  0.0000000 &  0.0000000 &  0.0336035450\\\\\n",
       "\t4 & 2016-12-01 & 10 & 24.99 & 25.0 & 26.72000 & 39.6200 & 222.5 & 2238.83 & 75344550000 & 3.063 &  0.0182007624 & 0.03063 &  0.002953827 & 0 & 0.3143107 &  0.0000000 & -0.09957096 & -0.6513993 &  0.0000000 &  0.0180371113\\\\\n",
       "\t5 & 2017-01-01 & 10 & 24.99 & 20.5 & 31.00000 & 78.4175 & 192.5 & 2278.87 & 70576420000 & 3.051 &  0.0178843582 & 0.03051 &  0.021802036 & 0 & 0.0000000 & -0.1984509 &  0.14857486 &  0.6827131 & -0.1448309 &  0.0177263146\\\\\n",
       "\t6 & 2017-02-01 & 10 & 24.99 & 20.5 & 23.25000 & 55.9920 & 151.0 & 2363.64 & 69260940000 & 2.968 &  0.0371981601 & 0.02968 &  0.064402414 & 0 & 0.0000000 &  0.0000000 & -0.28768207 & -0.3368383 & -0.2428163 &  0.0365230007\\\\\n",
       "\t7 & 2017-03-01 & 10 & 24.99 & 20.5 & 24.50000 & 76.5120 & 151.0 & 2362.72 & 81664010000 & 3.018 & -0.0003891971 & 0.03018 & -0.017235543 & 0 & 0.0000000 &  0.0000000 &  0.05236799 &  0.3122388 &  0.0000000 & -0.0003892729\\\\\n",
       "\\end{tabular}\n"
      ],
      "text/markdown": [
       "\n",
       "A data.frame: 6 × 20\n",
       "\n",
       "| <!--/--> | date &lt;chr&gt; | grade5price &lt;dbl&gt; | grade6price &lt;dbl&gt; | grade7price &lt;dbl&gt; | grade8price &lt;dbl&gt; | grade9price &lt;dbl&gt; | grade10price &lt;dbl&gt; | adjclosestock &lt;dbl&gt; | volume &lt;dbl&gt; | adjclosebond &lt;dbl&gt; | stockreturns &lt;dbl&gt; | bondadjusted &lt;dbl&gt; | excessreturns &lt;dbl&gt; | grade5price_return &lt;dbl&gt; | grade6price_return &lt;dbl&gt; | grade7price_return &lt;dbl&gt; | grade8price_return &lt;dbl&gt; | grade9price_return &lt;dbl&gt; | grade10price_return &lt;dbl&gt; | adjclosestock_return &lt;dbl&gt; |\n",
       "|---|---|---|---|---|---|---|---|---|---|---|---|---|---|---|---|---|---|---|---|---|\n",
       "| 2 | 2016-10-01 | 10 | 18.25 | 25.0 | 48.95125 | 76.0000 | 222.5 | 2126.15 | 72915530000 | 2.589 | -0.0194256789 | 0.02589 | -0.127730484 | 0 | 0.0000000 |  0.0000000 |  0.06207482 | -0.2518163 |  0.0000000 | -0.0196168370 |\n",
       "| 3 | 2016-11-01 | 10 | 18.25 | 25.0 | 29.51750 | 76.0000 | 222.5 | 2198.81 | 88445380000 | 3.017 |  0.0341745218 | 0.03017 | -0.131140262 | 0 | 0.0000000 |  0.0000000 | -0.50584160 |  0.0000000 |  0.0000000 |  0.0336035450 |\n",
       "| 4 | 2016-12-01 | 10 | 24.99 | 25.0 | 26.72000 | 39.6200 | 222.5 | 2238.83 | 75344550000 | 3.063 |  0.0182007624 | 0.03063 |  0.002953827 | 0 | 0.3143107 |  0.0000000 | -0.09957096 | -0.6513993 |  0.0000000 |  0.0180371113 |\n",
       "| 5 | 2017-01-01 | 10 | 24.99 | 20.5 | 31.00000 | 78.4175 | 192.5 | 2278.87 | 70576420000 | 3.051 |  0.0178843582 | 0.03051 |  0.021802036 | 0 | 0.0000000 | -0.1984509 |  0.14857486 |  0.6827131 | -0.1448309 |  0.0177263146 |\n",
       "| 6 | 2017-02-01 | 10 | 24.99 | 20.5 | 23.25000 | 55.9920 | 151.0 | 2363.64 | 69260940000 | 2.968 |  0.0371981601 | 0.02968 |  0.064402414 | 0 | 0.0000000 |  0.0000000 | -0.28768207 | -0.3368383 | -0.2428163 |  0.0365230007 |\n",
       "| 7 | 2017-03-01 | 10 | 24.99 | 20.5 | 24.50000 | 76.5120 | 151.0 | 2362.72 | 81664010000 | 3.018 | -0.0003891971 | 0.03018 | -0.017235543 | 0 | 0.0000000 |  0.0000000 |  0.05236799 |  0.3122388 |  0.0000000 | -0.0003892729 |\n",
       "\n"
      ],
      "text/plain": [
       "  date       grade5price grade6price grade7price grade8price grade9price\n",
       "2 2016-10-01 10          18.25       25.0        48.95125    76.0000    \n",
       "3 2016-11-01 10          18.25       25.0        29.51750    76.0000    \n",
       "4 2016-12-01 10          24.99       25.0        26.72000    39.6200    \n",
       "5 2017-01-01 10          24.99       20.5        31.00000    78.4175    \n",
       "6 2017-02-01 10          24.99       20.5        23.25000    55.9920    \n",
       "7 2017-03-01 10          24.99       20.5        24.50000    76.5120    \n",
       "  grade10price adjclosestock volume      adjclosebond stockreturns \n",
       "2 222.5        2126.15       72915530000 2.589        -0.0194256789\n",
       "3 222.5        2198.81       88445380000 3.017         0.0341745218\n",
       "4 222.5        2238.83       75344550000 3.063         0.0182007624\n",
       "5 192.5        2278.87       70576420000 3.051         0.0178843582\n",
       "6 151.0        2363.64       69260940000 2.968         0.0371981601\n",
       "7 151.0        2362.72       81664010000 3.018        -0.0003891971\n",
       "  bondadjusted excessreturns grade5price_return grade6price_return\n",
       "2 0.02589      -0.127730484  0                  0.0000000         \n",
       "3 0.03017      -0.131140262  0                  0.0000000         \n",
       "4 0.03063       0.002953827  0                  0.3143107         \n",
       "5 0.03051       0.021802036  0                  0.0000000         \n",
       "6 0.02968       0.064402414  0                  0.0000000         \n",
       "7 0.03018      -0.017235543  0                  0.0000000         \n",
       "  grade7price_return grade8price_return grade9price_return grade10price_return\n",
       "2  0.0000000          0.06207482        -0.2518163          0.0000000         \n",
       "3  0.0000000         -0.50584160         0.0000000          0.0000000         \n",
       "4  0.0000000         -0.09957096        -0.6513993          0.0000000         \n",
       "5 -0.1984509          0.14857486         0.6827131         -0.1448309         \n",
       "6  0.0000000         -0.28768207        -0.3368383         -0.2428163         \n",
       "7  0.0000000          0.05236799         0.3122388          0.0000000         \n",
       "  adjclosestock_return\n",
       "2 -0.0196168370       \n",
       "3  0.0336035450       \n",
       "4  0.0180371113       \n",
       "5  0.0177263146       \n",
       "6  0.0365230007       \n",
       "7 -0.0003892729       "
      ]
     },
     "metadata": {},
     "output_type": "display_data"
    }
   ],
   "source": [
    "head(blastouse_99)"
   ]
  },
  {
   "cell_type": "code",
   "execution_count": 5,
   "id": "3cb7b582-1c4c-4c52-99cb-d73c712e7c21",
   "metadata": {},
   "outputs": [],
   "source": [
    "venusaur = read.csv('merged_datasets_final/merged_Venusaur___Holo_1999_Base_Set.csv')\n",
    "\n",
    "#convert prices to returns\n",
    "grades <- grep(\"grade[0-9]+price\", names(venusaur), value = TRUE)\n",
    "for(grade in grades) {\n",
    "  venusaur[paste(grade, \"return\", sep = \"_\")] <- c(NA, diff(log(venusaur[[grade]])))\n",
    "}\n",
    "\n",
    "#convert adjclosestock to returns\n",
    "venusaur$adjclosestock_return <- c(NA, diff(log(venusaur$adjclosestock)))\n",
    "\n",
    "#remove rows with NA in the newly created return columns\n",
    "venusaur <- na.omit(venusaur)\n"
   ]
  },
  {
   "cell_type": "code",
   "execution_count": 6,
   "id": "bd6c1c5c-e2a1-48d8-ba2e-a12020ff82ab",
   "metadata": {},
   "outputs": [],
   "source": [
    "machamp = read.csv('merged_datasets_final/merged_Machamp_1st_Edition__Holo_1999_Base_Set.csv')\n",
    "\n",
    "#convert prices to returns\n",
    "grades <- grep(\"grade[0-9]+price\", names(machamp), value = TRUE)\n",
    "for(grade in grades) {\n",
    "  machamp[paste(grade, \"return\", sep = \"_\")] <- c(NA, diff(log(machamp[[grade]])))\n",
    "}\n",
    "\n",
    "#convert adjclosestock to returns\n",
    "machamp$adjclosestock_return <- c(NA, diff(log(machamp$adjclosestock)))\n",
    "\n",
    "#remove rows with NA in the newly created return columns\n",
    "machamp <- na.omit(machamp)"
   ]
  },
  {
   "cell_type": "code",
   "execution_count": 7,
   "id": "5854ad97-5be2-4860-b847-722432f4ec15",
   "metadata": {},
   "outputs": [],
   "source": [
    "charizard_19 = read.csv('merged_datasets_final/merged_Full_Art_Charizard_GX_2019_Hidden_Fates.csv')\n",
    "\n",
    "#convert prices to returns\n",
    "grades <- grep(\"grade[0-9]+price\", names(charizard_19), value = TRUE)\n",
    "for(grade in grades) {\n",
    "  charizard_19[paste(grade, \"return\", sep = \"_\")] <- c(NA, diff(log(charizard_19[[grade]])))\n",
    "}\n",
    "\n",
    "#convert adjclosestock to returns\n",
    "charizard_19$adjclosestock_return <- c(NA, diff(log(charizard_19$adjclosestock)))\n",
    "\n",
    "#remove rows with NA in the newly created return columns\n",
    "charizard_19 <- na.omit(charizard_19)"
   ]
  },
  {
   "cell_type": "code",
   "execution_count": 17,
   "id": "abc4927c-3338-470d-88a5-2bea12971c50",
   "metadata": {},
   "outputs": [
    {
     "data": {
      "text/html": [
       "<table class=\"dataframe\">\n",
       "<caption>A data.frame: 6 × 12</caption>\n",
       "<thead>\n",
       "\t<tr><th></th><th scope=col>date</th><th scope=col>grade9price</th><th scope=col>grade10price</th><th scope=col>adjclosestock</th><th scope=col>volume</th><th scope=col>adjclosebond</th><th scope=col>stockreturns</th><th scope=col>bondadjusted</th><th scope=col>excessreturns</th><th scope=col>grade9price_return</th><th scope=col>grade10price_return</th><th scope=col>adjclosestock_return</th></tr>\n",
       "\t<tr><th></th><th scope=col>&lt;chr&gt;</th><th scope=col>&lt;dbl&gt;</th><th scope=col>&lt;dbl&gt;</th><th scope=col>&lt;dbl&gt;</th><th scope=col>&lt;dbl&gt;</th><th scope=col>&lt;dbl&gt;</th><th scope=col>&lt;dbl&gt;</th><th scope=col>&lt;dbl&gt;</th><th scope=col>&lt;dbl&gt;</th><th scope=col>&lt;dbl&gt;</th><th scope=col>&lt;dbl&gt;</th><th scope=col>&lt;dbl&gt;</th></tr>\n",
       "</thead>\n",
       "<tbody>\n",
       "\t<tr><th scope=row>2</th><td>2020-10-01</td><td>222.8518</td><td>501.5962</td><td>3269.96</td><td> 89938980000</td><td>1.640</td><td>-0.02766579</td><td>0.01640</td><td>-0.157920792</td><td> 0.09332547</td><td>-0.097482032</td><td>-0.02805569</td></tr>\n",
       "\t<tr><th scope=row>3</th><td>2020-11-01</td><td>165.8344</td><td>390.3684</td><td>3621.63</td><td>101247180000</td><td>1.573</td><td> 0.10754564</td><td>0.01573</td><td> 0.148399314</td><td>-0.29551685</td><td>-0.250704393</td><td> 0.10214643</td></tr>\n",
       "\t<tr><th scope=row>4</th><td>2020-12-01</td><td>139.7020</td><td>311.3682</td><td>3756.07</td><td> 96375680000</td><td>1.646</td><td> 0.03712146</td><td>0.01646</td><td>-0.009286726</td><td>-0.17147839</td><td>-0.226114974</td><td> 0.03644905</td></tr>\n",
       "\t<tr><th scope=row>5</th><td>2021-01-01</td><td>165.9084</td><td>317.8356</td><td>3714.24</td><td>106117800000</td><td>1.858</td><td>-0.01113666</td><td>0.01858</td><td>-0.139933750</td><td> 0.17192437</td><td> 0.020558179</td><td>-0.01119914</td></tr>\n",
       "\t<tr><th scope=row>6</th><td>2021-02-01</td><td>202.0631</td><td>319.8525</td><td>3811.15</td><td> 99082320000</td><td>2.182</td><td> 0.02609145</td><td>0.02182</td><td>-0.148289536</td><td> 0.19714419</td><td> 0.006325646</td><td> 0.02575688</td></tr>\n",
       "\t<tr><th scope=row>7</th><td>2021-03-01</td><td>166.1980</td><td>345.1667</td><td>3972.89</td><td>122371150000</td><td>2.425</td><td> 0.04243863</td><td>0.02425</td><td>-0.068927105</td><td>-0.19540030</td><td> 0.076167568</td><td> 0.04156281</td></tr>\n",
       "</tbody>\n",
       "</table>\n"
      ],
      "text/latex": [
       "A data.frame: 6 × 12\n",
       "\\begin{tabular}{r|llllllllllll}\n",
       "  & date & grade9price & grade10price & adjclosestock & volume & adjclosebond & stockreturns & bondadjusted & excessreturns & grade9price\\_return & grade10price\\_return & adjclosestock\\_return\\\\\n",
       "  & <chr> & <dbl> & <dbl> & <dbl> & <dbl> & <dbl> & <dbl> & <dbl> & <dbl> & <dbl> & <dbl> & <dbl>\\\\\n",
       "\\hline\n",
       "\t2 & 2020-10-01 & 222.8518 & 501.5962 & 3269.96 &  89938980000 & 1.640 & -0.02766579 & 0.01640 & -0.157920792 &  0.09332547 & -0.097482032 & -0.02805569\\\\\n",
       "\t3 & 2020-11-01 & 165.8344 & 390.3684 & 3621.63 & 101247180000 & 1.573 &  0.10754564 & 0.01573 &  0.148399314 & -0.29551685 & -0.250704393 &  0.10214643\\\\\n",
       "\t4 & 2020-12-01 & 139.7020 & 311.3682 & 3756.07 &  96375680000 & 1.646 &  0.03712146 & 0.01646 & -0.009286726 & -0.17147839 & -0.226114974 &  0.03644905\\\\\n",
       "\t5 & 2021-01-01 & 165.9084 & 317.8356 & 3714.24 & 106117800000 & 1.858 & -0.01113666 & 0.01858 & -0.139933750 &  0.17192437 &  0.020558179 & -0.01119914\\\\\n",
       "\t6 & 2021-02-01 & 202.0631 & 319.8525 & 3811.15 &  99082320000 & 2.182 &  0.02609145 & 0.02182 & -0.148289536 &  0.19714419 &  0.006325646 &  0.02575688\\\\\n",
       "\t7 & 2021-03-01 & 166.1980 & 345.1667 & 3972.89 & 122371150000 & 2.425 &  0.04243863 & 0.02425 & -0.068927105 & -0.19540030 &  0.076167568 &  0.04156281\\\\\n",
       "\\end{tabular}\n"
      ],
      "text/markdown": [
       "\n",
       "A data.frame: 6 × 12\n",
       "\n",
       "| <!--/--> | date &lt;chr&gt; | grade9price &lt;dbl&gt; | grade10price &lt;dbl&gt; | adjclosestock &lt;dbl&gt; | volume &lt;dbl&gt; | adjclosebond &lt;dbl&gt; | stockreturns &lt;dbl&gt; | bondadjusted &lt;dbl&gt; | excessreturns &lt;dbl&gt; | grade9price_return &lt;dbl&gt; | grade10price_return &lt;dbl&gt; | adjclosestock_return &lt;dbl&gt; |\n",
       "|---|---|---|---|---|---|---|---|---|---|---|---|---|\n",
       "| 2 | 2020-10-01 | 222.8518 | 501.5962 | 3269.96 |  89938980000 | 1.640 | -0.02766579 | 0.01640 | -0.157920792 |  0.09332547 | -0.097482032 | -0.02805569 |\n",
       "| 3 | 2020-11-01 | 165.8344 | 390.3684 | 3621.63 | 101247180000 | 1.573 |  0.10754564 | 0.01573 |  0.148399314 | -0.29551685 | -0.250704393 |  0.10214643 |\n",
       "| 4 | 2020-12-01 | 139.7020 | 311.3682 | 3756.07 |  96375680000 | 1.646 |  0.03712146 | 0.01646 | -0.009286726 | -0.17147839 | -0.226114974 |  0.03644905 |\n",
       "| 5 | 2021-01-01 | 165.9084 | 317.8356 | 3714.24 | 106117800000 | 1.858 | -0.01113666 | 0.01858 | -0.139933750 |  0.17192437 |  0.020558179 | -0.01119914 |\n",
       "| 6 | 2021-02-01 | 202.0631 | 319.8525 | 3811.15 |  99082320000 | 2.182 |  0.02609145 | 0.02182 | -0.148289536 |  0.19714419 |  0.006325646 |  0.02575688 |\n",
       "| 7 | 2021-03-01 | 166.1980 | 345.1667 | 3972.89 | 122371150000 | 2.425 |  0.04243863 | 0.02425 | -0.068927105 | -0.19540030 |  0.076167568 |  0.04156281 |\n",
       "\n"
      ],
      "text/plain": [
       "  date       grade9price grade10price adjclosestock volume       adjclosebond\n",
       "2 2020-10-01 222.8518    501.5962     3269.96        89938980000 1.640       \n",
       "3 2020-11-01 165.8344    390.3684     3621.63       101247180000 1.573       \n",
       "4 2020-12-01 139.7020    311.3682     3756.07        96375680000 1.646       \n",
       "5 2021-01-01 165.9084    317.8356     3714.24       106117800000 1.858       \n",
       "6 2021-02-01 202.0631    319.8525     3811.15        99082320000 2.182       \n",
       "7 2021-03-01 166.1980    345.1667     3972.89       122371150000 2.425       \n",
       "  stockreturns bondadjusted excessreturns grade9price_return\n",
       "2 -0.02766579  0.01640      -0.157920792   0.09332547       \n",
       "3  0.10754564  0.01573       0.148399314  -0.29551685       \n",
       "4  0.03712146  0.01646      -0.009286726  -0.17147839       \n",
       "5 -0.01113666  0.01858      -0.139933750   0.17192437       \n",
       "6  0.02609145  0.02182      -0.148289536   0.19714419       \n",
       "7  0.04243863  0.02425      -0.068927105  -0.19540030       \n",
       "  grade10price_return adjclosestock_return\n",
       "2 -0.097482032        -0.02805569         \n",
       "3 -0.250704393         0.10214643         \n",
       "4 -0.226114974         0.03644905         \n",
       "5  0.020558179        -0.01119914         \n",
       "6  0.006325646         0.02575688         \n",
       "7  0.076167568         0.04156281         "
      ]
     },
     "metadata": {},
     "output_type": "display_data"
    }
   ],
   "source": [
    "\n",
    "charizard_d20 = read.csv('merged_datasets_final/merged_Full_Art_Charizard_Vmax_Portuguese__Holo_2020_Darkness_Ablaze.csv')\n",
    "\n",
    "#convert prices to returns\n",
    "grades <- grep(\"grade[0-9]+price\", names(charizard_d20), value = TRUE)\n",
    "for(grade in grades) {\n",
    "  charizard_d20[paste(grade, \"return\", sep = \"_\")] <- c(NA, diff(log(charizard_d20[[grade]])))\n",
    "}\n",
    "\n",
    "#convert adjclosestock to returns\n",
    "charizard_d20$adjclosestock_return <- c(NA, diff(log(charizard_d20$adjclosestock)))\n",
    "\n",
    "#remove rows with NA in the newly created return columns\n",
    "charizard_d20 <- na.omit(charizard_d20)\n",
    "head(charizard_d20)"
   ]
  },
  {
   "cell_type": "code",
   "execution_count": 9,
   "id": "6ba3e6c5-db49-40bd-8a17-7accc55fe18c",
   "metadata": {},
   "outputs": [],
   "source": [
    "\n",
    "charizard_20 = read.csv('merged_datasets_final/merged_Full_Art_Charizard_Vmax_Secret__Holo_2020_Champions_Path.csv')\n",
    "\n",
    "#convert prices to returns\n",
    "grades <- grep(\"grade[0-9]+price\", names(charizard_20), value = TRUE)\n",
    "for(grade in grades) {\n",
    "  charizard_20[paste(grade, \"return\", sep = \"_\")] <- c(NA, diff(log(charizard_20[[grade]])))\n",
    "}\n",
    "\n",
    "#convert adjclosestock to returns\n",
    "charizard_20$adjclosestock_return <- c(NA, diff(log(charizard_20$adjclosestock)))\n",
    "\n",
    "#remove rows with NA in the newly created return columns\n",
    "charizard_20 <- na.omit(charizard_20)"
   ]
  },
  {
   "cell_type": "code",
   "execution_count": 10,
   "id": "46a689a8-ea6a-4b83-a91b-3038617f0293",
   "metadata": {},
   "outputs": [],
   "source": [
    "\n",
    "\n",
    "charizard_ev16 = read.csv('merged_datasets_final/merged_Full_Art_M_Charizard_EX___Holo_2016_Evolutions.csv')\n",
    "\n",
    "#convert prices to returns\n",
    "grades <- grep(\"grade[0-9]+price\", names(charizard_ev16), value = TRUE)\n",
    "for(grade in grades) {\n",
    "  charizard_ev16[paste(grade, \"return\", sep = \"_\")] <- c(NA, diff(log(charizard_ev16[[grade]])))\n",
    "}\n",
    "\n",
    "#convert adjclosestock to returns\n",
    "charizard_ev16$adjclosestock_return <- c(NA, diff(log(charizard_ev16$adjclosestock)))\n",
    "\n",
    "#remove rows with NA in the newly created return columns\n",
    "charizard_ev16 <- na.omit(charizard_ev16)"
   ]
  },
  {
   "cell_type": "code",
   "execution_count": 11,
   "id": "35330139-632e-402a-9845-6db2ff449e83",
   "metadata": {},
   "outputs": [],
   "source": [
    "\n",
    "\n",
    "charizard_b99 = read.csv('merged_datasets_final/merged_Charizard___Holo_1999_Base_Set.csv')\n",
    "\n",
    "#convert prices to returns\n",
    "grades <- grep(\"grade[0-9]+price\", names(charizard_b99), value = TRUE)\n",
    "for(grade in grades) {\n",
    "  charizard_b99[paste(grade, \"return\", sep = \"_\")] <- c(NA, diff(log(charizard_b99[[grade]])))\n",
    "}\n",
    "\n",
    "#convert adjclosestock to returns\n",
    "charizard_b99$adjclosestock_return <- c(NA, diff(log(charizard_b99$adjclosestock)))\n",
    "\n",
    "#remove rows with NA in the newly created return columns\n",
    "charizard_b99 <- na.omit(charizard_b99)"
   ]
  },
  {
   "cell_type": "code",
   "execution_count": 12,
   "id": "06ea8d0b-8780-4d3a-8331-665edee82a31",
   "metadata": {},
   "outputs": [],
   "source": [
    "\n",
    "\n",
    "charizard_16 = read.csv('merged_datasets_final/merged_Charizard___Holo_2016_Evolutions.csv')\n",
    "\n",
    "#convert prices to returns\n",
    "grades <- grep(\"grade[0-9]+price\", names(charizard_16), value = TRUE)\n",
    "for(grade in grades) {\n",
    "  charizard_16[paste(grade, \"return\", sep = \"_\")] <- c(NA, diff(log(charizard_16[[grade]])))\n",
    "}\n",
    "\n",
    "#convert adjclosestock to returns\n",
    "charizard_16$adjclosestock_return <- c(NA, diff(log(charizard_16$adjclosestock)))\n",
    "\n",
    "#remove rows with NA in the newly created return columns\n",
    "charizard_16 <- na.omit(charizard_16)"
   ]
  },
  {
   "cell_type": "code",
   "execution_count": 13,
   "id": "7eaf4d1d-5f19-4938-894b-399a1d730bc6",
   "metadata": {},
   "outputs": [],
   "source": [
    "\n",
    "\n",
    "charizard_rf16 = read.csv('merged_datasets_final/merged_Charizard_Reverse_Foil_2016_Evolutions.csv')\n",
    "\n",
    "#convert prices to returns\n",
    "grades <- grep(\"grade[0-9]+price\", names(charizard_rf16), value = TRUE)\n",
    "for(grade in grades) {\n",
    "  charizard_rf16[paste(grade, \"return\", sep = \"_\")] <- c(NA, diff(log(charizard_rf16[[grade]])))\n",
    "}\n",
    "\n",
    "#convert adjclosestock to returns\n",
    "charizard_rf16$adjclosestock_return <- c(NA, diff(log(charizard_rf16$adjclosestock)))\n",
    "\n",
    "#remove rows with NA in the newly created return columns\n",
    "charizard_rf16 <- na.omit(charizard_rf16)"
   ]
  },
  {
   "cell_type": "code",
   "execution_count": 14,
   "id": "8ec9b4b5-4f00-48d0-8565-99f2025f3c66",
   "metadata": {},
   "outputs": [
    {
     "data": {
      "text/plain": [
       "\n",
       "Call:\n",
       "lm(formula = grade10price_return ~ adjclosestock_return, data = blastouse_99)\n",
       "\n",
       "Residuals:\n",
       "     Min       1Q   Median       3Q      Max \n",
       "-0.68557 -0.07865 -0.02788  0.06560  0.94218 \n",
       "\n",
       "Coefficients:\n",
       "                     Estimate Std. Error t value Pr(>|t|)\n",
       "(Intercept)           0.02823    0.03234   0.873    0.385\n",
       "adjclosestock_return  0.04120    0.66469   0.062    0.951\n",
       "\n",
       "Residual standard error: 0.2833 on 77 degrees of freedom\n",
       "Multiple R-squared:  4.99e-05,\tAdjusted R-squared:  -0.01294 \n",
       "F-statistic: 0.003843 on 1 and 77 DF,  p-value: 0.9507\n"
      ]
     },
     "metadata": {},
     "output_type": "display_data"
    },
    {
     "data": {
      "text/plain": [
       "\n",
       "Call:\n",
       "lm(formula = grade10price_return ~ adjclosestock_return, data = venusaur)\n",
       "\n",
       "Residuals:\n",
       "    Min      1Q  Median      3Q     Max \n",
       "-0.8972 -0.1307 -0.0293  0.1334  0.9692 \n",
       "\n",
       "Coefficients:\n",
       "                     Estimate Std. Error t value Pr(>|t|)\n",
       "(Intercept)           0.03380    0.03544   0.954    0.343\n",
       "adjclosestock_return -0.61951    0.72421  -0.855    0.395\n",
       "\n",
       "Residual standard error: 0.3086 on 76 degrees of freedom\n",
       "Multiple R-squared:  0.009537,\tAdjusted R-squared:  -0.003496 \n",
       "F-statistic: 0.7318 on 1 and 76 DF,  p-value: 0.395\n"
      ]
     },
     "metadata": {},
     "output_type": "display_data"
    },
    {
     "data": {
      "text/plain": [
       "\n",
       "Call:\n",
       "lm(formula = grade10price_return ~ adjclosestock_return, data = machamp)\n",
       "\n",
       "Residuals:\n",
       "     Min       1Q   Median       3Q      Max \n",
       "-2.14824 -0.12007 -0.00290  0.01196  2.19792 \n",
       "\n",
       "Coefficients:\n",
       "                      Estimate Std. Error t value Pr(>|t|)\n",
       "(Intercept)           0.003968   0.076683   0.052    0.959\n",
       "adjclosestock_return -0.221676   1.576081  -0.141    0.889\n",
       "\n",
       "Residual standard error: 0.6716 on 77 degrees of freedom\n",
       "Multiple R-squared:  0.0002568,\tAdjusted R-squared:  -0.01273 \n",
       "F-statistic: 0.01978 on 1 and 77 DF,  p-value: 0.8885\n"
      ]
     },
     "metadata": {},
     "output_type": "display_data"
    },
    {
     "data": {
      "text/plain": [
       "\n",
       "Call:\n",
       "lm(formula = grade10price_return ~ adjclosestock_return, data = charizard_19)\n",
       "\n",
       "Residuals:\n",
       "     Min       1Q   Median       3Q      Max \n",
       "-0.49996 -0.03184  0.00053  0.05912  0.33729 \n",
       "\n",
       "Coefficients:\n",
       "                      Estimate Std. Error t value Pr(>|t|)\n",
       "(Intercept)          -0.006651   0.025551  -0.260    0.796\n",
       "adjclosestock_return -0.261348   0.447424  -0.584    0.562\n",
       "\n",
       "Residual standard error: 0.166 on 41 degrees of freedom\n",
       "Multiple R-squared:  0.008253,\tAdjusted R-squared:  -0.01594 \n",
       "F-statistic: 0.3412 on 1 and 41 DF,  p-value: 0.5623\n"
      ]
     },
     "metadata": {},
     "output_type": "display_data"
    },
    {
     "data": {
      "text/plain": [
       "\n",
       "Call:\n",
       "lm(formula = grade10price_return ~ adjclosestock_return, data = charizard_d20)\n",
       "\n",
       "Residuals:\n",
       "     Min       1Q   Median       3Q      Max \n",
       "-0.39554 -0.08797  0.00141  0.10169  0.40917 \n",
       "\n",
       "Coefficients:\n",
       "                     Estimate Std. Error t value Pr(>|t|)   \n",
       "(Intercept)          -0.04722    0.02942  -1.605  0.11977   \n",
       "adjclosestock_return -1.65427    0.54798  -3.019  0.00536 **\n",
       "---\n",
       "Signif. codes:  0 ‘***’ 0.001 ‘**’ 0.01 ‘*’ 0.05 ‘.’ 0.1 ‘ ’ 1\n",
       "\n",
       "Residual standard error: 0.1599 on 28 degrees of freedom\n",
       "Multiple R-squared:  0.2456,\tAdjusted R-squared:  0.2186 \n",
       "F-statistic: 9.113 on 1 and 28 DF,  p-value: 0.005362\n"
      ]
     },
     "metadata": {},
     "output_type": "display_data"
    },
    {
     "data": {
      "text/plain": [
       "\n",
       "Call:\n",
       "lm(formula = grade10price_return ~ adjclosestock_return, data = charizard_20)\n",
       "\n",
       "Residuals:\n",
       "     Min       1Q   Median       3Q      Max \n",
       "-1.71725 -0.10224  0.08924  0.18469  1.68268 \n",
       "\n",
       "Coefficients:\n",
       "                     Estimate Std. Error t value Pr(>|t|)\n",
       "(Intercept)           -0.1194     0.1076  -1.109    0.275\n",
       "adjclosestock_return   2.9212     2.1046   1.388    0.174\n",
       "\n",
       "Residual standard error: 0.6397 on 34 degrees of freedom\n",
       "Multiple R-squared:  0.05362,\tAdjusted R-squared:  0.02579 \n",
       "F-statistic: 1.927 on 1 and 34 DF,  p-value: 0.1742\n"
      ]
     },
     "metadata": {},
     "output_type": "display_data"
    },
    {
     "data": {
      "text/plain": [
       "\n",
       "Call:\n",
       "lm(formula = grade10price_return ~ adjclosestock_return, data = charizard_ev16)\n",
       "\n",
       "Residuals:\n",
       "     Min       1Q   Median       3Q      Max \n",
       "-0.95728 -0.12112  0.02235  0.11424  1.05755 \n",
       "\n",
       "Coefficients:\n",
       "                      Estimate Std. Error t value Pr(>|t|)\n",
       "(Intercept)          -0.008553   0.031013  -0.276    0.783\n",
       "adjclosestock_return  0.492359   0.628297   0.784    0.436\n",
       "\n",
       "Residual standard error: 0.2666 on 74 degrees of freedom\n",
       "Multiple R-squared:  0.00823,\tAdjusted R-squared:  -0.005172 \n",
       "F-statistic: 0.6141 on 1 and 74 DF,  p-value: 0.4358\n"
      ]
     },
     "metadata": {},
     "output_type": "display_data"
    },
    {
     "data": {
      "text/plain": [
       "\n",
       "Call:\n",
       "lm(formula = grade10price_return ~ adjclosestock_return, data = charizard_b99)\n",
       "\n",
       "Residuals:\n",
       "     Min       1Q   Median       3Q      Max \n",
       "-0.64588 -0.06903 -0.02108  0.05037  1.25043 \n",
       "\n",
       "Coefficients:\n",
       "                     Estimate Std. Error t value Pr(>|t|)\n",
       "(Intercept)           0.03503    0.02782   1.259    0.212\n",
       "adjclosestock_return -0.51344    0.56839  -0.903    0.369\n",
       "\n",
       "Residual standard error: 0.2422 on 76 degrees of freedom\n",
       "Multiple R-squared:  0.01062,\tAdjusted R-squared:  -0.002396 \n",
       "F-statistic: 0.816 on 1 and 76 DF,  p-value: 0.3692\n"
      ]
     },
     "metadata": {},
     "output_type": "display_data"
    },
    {
     "data": {
      "text/plain": [
       "\n",
       "Call:\n",
       "lm(formula = grade10price_return ~ adjclosestock_return, data = charizard_16)\n",
       "\n",
       "Residuals:\n",
       "     Min       1Q   Median       3Q      Max \n",
       "-1.74074 -0.03549 -0.02158  0.01236  1.21241 \n",
       "\n",
       "Coefficients:\n",
       "                     Estimate Std. Error t value Pr(>|t|)\n",
       "(Intercept)           0.01764    0.04995   0.353    0.725\n",
       "adjclosestock_return  0.34185    1.00576   0.340    0.735\n",
       "\n",
       "Residual standard error: 0.4268 on 73 degrees of freedom\n",
       "Multiple R-squared:  0.00158,\tAdjusted R-squared:  -0.0121 \n",
       "F-statistic: 0.1155 on 1 and 73 DF,  p-value: 0.7349\n"
      ]
     },
     "metadata": {},
     "output_type": "display_data"
    },
    {
     "data": {
      "text/plain": [
       "\n",
       "Call:\n",
       "lm(formula = grade10price_return ~ adjclosestock_return, data = charizard_rf16)\n",
       "\n",
       "Residuals:\n",
       "     Min       1Q   Median       3Q      Max \n",
       "-2.06909 -0.17149  0.03334  0.15786  1.70698 \n",
       "\n",
       "Coefficients:\n",
       "                     Estimate Std. Error t value Pr(>|t|)  \n",
       "(Intercept)           0.01929    0.05675   0.340    0.735  \n",
       "adjclosestock_return -2.35446    1.13661  -2.071    0.042 *\n",
       "---\n",
       "Signif. codes:  0 ‘***’ 0.001 ‘**’ 0.01 ‘*’ 0.05 ‘.’ 0.1 ‘ ’ 1\n",
       "\n",
       "Residual standard error: 0.4761 on 70 degrees of freedom\n",
       "Multiple R-squared:  0.05776,\tAdjusted R-squared:  0.0443 \n",
       "F-statistic: 4.291 on 1 and 70 DF,  p-value: 0.042\n"
      ]
     },
     "metadata": {},
     "output_type": "display_data"
    }
   ],
   "source": [
    "summary(lm(grade10price_return~adjclosestock_return, data = blastouse_99))\n",
    "summary(lm(grade10price_return~adjclosestock_return, data = venusaur))\n",
    "summary(lm(grade10price_return~adjclosestock_return, data = machamp))\n",
    "summary(lm(grade10price_return~adjclosestock_return, data = charizard_19))\n",
    "summary(lm(grade10price_return~adjclosestock_return, data = charizard_d20))\n",
    "summary(lm(grade10price_return~adjclosestock_return, data = charizard_20))\n",
    "summary(lm(grade10price_return~adjclosestock_return, data = charizard_ev16))\n",
    "summary(lm(grade10price_return~adjclosestock_return, data = charizard_b99))\n",
    "summary(lm(grade10price_return~adjclosestock_return, data = charizard_16))\n",
    "summary(lm(grade10price_return~adjclosestock_return, data = charizard_rf16))"
   ]
  },
  {
   "cell_type": "code",
   "execution_count": 15,
   "id": "2e0d8ab8-509e-45c5-bb9c-1961c21b433f",
   "metadata": {},
   "outputs": [
    {
     "data": {
      "text/plain": [
       "\n",
       "Call:\n",
       "lm(formula = grade9price_return ~ adjclosestock_return, data = blastouse_99)\n",
       "\n",
       "Residuals:\n",
       "     Min       1Q   Median       3Q      Max \n",
       "-0.86360 -0.12864 -0.01692  0.12098  1.15524 \n",
       "\n",
       "Coefficients:\n",
       "                     Estimate Std. Error t value Pr(>|t|)\n",
       "(Intercept)           0.01368    0.03834   0.357    0.722\n",
       "adjclosestock_return  0.14194    0.78800   0.180    0.858\n",
       "\n",
       "Residual standard error: 0.3358 on 77 degrees of freedom\n",
       "Multiple R-squared:  0.0004212,\tAdjusted R-squared:  -0.01256 \n",
       "F-statistic: 0.03245 on 1 and 77 DF,  p-value: 0.8575\n"
      ]
     },
     "metadata": {},
     "output_type": "display_data"
    },
    {
     "data": {
      "text/plain": [
       "\n",
       "Call:\n",
       "lm(formula = grade9price_return ~ adjclosestock_return, data = venusaur)\n",
       "\n",
       "Residuals:\n",
       "     Min       1Q   Median       3Q      Max \n",
       "-0.99791 -0.10680  0.01047  0.12066  1.11150 \n",
       "\n",
       "Coefficients:\n",
       "                     Estimate Std. Error t value Pr(>|t|)\n",
       "(Intercept)           0.02167    0.03286   0.660    0.512\n",
       "adjclosestock_return -0.93675    0.67138  -1.395    0.167\n",
       "\n",
       "Residual standard error: 0.2861 on 76 degrees of freedom\n",
       "Multiple R-squared:  0.02498,\tAdjusted R-squared:  0.01215 \n",
       "F-statistic: 1.947 on 1 and 76 DF,  p-value: 0.167\n"
      ]
     },
     "metadata": {},
     "output_type": "display_data"
    },
    {
     "data": {
      "text/plain": [
       "\n",
       "Call:\n",
       "lm(formula = grade9price_return ~ adjclosestock_return, data = machamp)\n",
       "\n",
       "Residuals:\n",
       "     Min       1Q   Median       3Q      Max \n",
       "-1.40612 -0.27405 -0.00855  0.23234  1.08346 \n",
       "\n",
       "Coefficients:\n",
       "                     Estimate Std. Error t value Pr(>|t|)\n",
       "(Intercept)          0.003972   0.049249   0.081    0.936\n",
       "adjclosestock_return 0.130112   1.012225   0.129    0.898\n",
       "\n",
       "Residual standard error: 0.4314 on 77 degrees of freedom\n",
       "Multiple R-squared:  0.0002145,\tAdjusted R-squared:  -0.01277 \n",
       "F-statistic: 0.01652 on 1 and 77 DF,  p-value: 0.8981\n"
      ]
     },
     "metadata": {},
     "output_type": "display_data"
    },
    {
     "data": {
      "text/plain": [
       "\n",
       "Call:\n",
       "lm(formula = grade9price_return ~ adjclosestock_return, data = charizard_19)\n",
       "\n",
       "Residuals:\n",
       "     Min       1Q   Median       3Q      Max \n",
       "-0.36913 -0.02482 -0.00118  0.05966  0.37436 \n",
       "\n",
       "Coefficients:\n",
       "                      Estimate Std. Error t value Pr(>|t|)\n",
       "(Intercept)          -0.001257   0.021795  -0.058    0.954\n",
       "adjclosestock_return  0.120315   0.381640   0.315    0.754\n",
       "\n",
       "Residual standard error: 0.1416 on 41 degrees of freedom\n",
       "Multiple R-squared:  0.002418,\tAdjusted R-squared:  -0.02191 \n",
       "F-statistic: 0.09939 on 1 and 41 DF,  p-value: 0.7542\n"
      ]
     },
     "metadata": {},
     "output_type": "display_data"
    },
    {
     "data": {
      "text/plain": [
       "\n",
       "Call:\n",
       "lm(formula = grade9price_return ~ adjclosestock_return, data = charizard_d20)\n",
       "\n",
       "Residuals:\n",
       "     Min       1Q   Median       3Q      Max \n",
       "-0.46893 -0.10816  0.03332  0.07947  0.47317 \n",
       "\n",
       "Coefficients:\n",
       "                     Estimate Std. Error t value Pr(>|t|)\n",
       "(Intercept)          -0.05013    0.03429  -1.462    0.155\n",
       "adjclosestock_return -0.35791    0.63854  -0.561    0.580\n",
       "\n",
       "Residual standard error: 0.1863 on 28 degrees of freedom\n",
       "Multiple R-squared:  0.0111,\tAdjusted R-squared:  -0.02422 \n",
       "F-statistic: 0.3142 on 1 and 28 DF,  p-value: 0.5796\n"
      ]
     },
     "metadata": {},
     "output_type": "display_data"
    },
    {
     "data": {
      "text/plain": [
       "\n",
       "Call:\n",
       "lm(formula = grade9price_return ~ adjclosestock_return, data = charizard_20)\n",
       "\n",
       "Residuals:\n",
       "     Min       1Q   Median       3Q      Max \n",
       "-1.97242 -0.00776  0.05863  0.11720  0.49858 \n",
       "\n",
       "Coefficients:\n",
       "                     Estimate Std. Error t value Pr(>|t|)\n",
       "(Intercept)          -0.08687    0.06239  -1.392    0.173\n",
       "adjclosestock_return -0.78496    1.22029  -0.643    0.524\n",
       "\n",
       "Residual standard error: 0.3709 on 34 degrees of freedom\n",
       "Multiple R-squared:  0.01202,\tAdjusted R-squared:  -0.01703 \n",
       "F-statistic: 0.4138 on 1 and 34 DF,  p-value: 0.5244\n"
      ]
     },
     "metadata": {},
     "output_type": "display_data"
    },
    {
     "data": {
      "text/plain": [
       "\n",
       "Call:\n",
       "lm(formula = grade9price_return ~ adjclosestock_return, data = charizard_ev16)\n",
       "\n",
       "Residuals:\n",
       "     Min       1Q   Median       3Q      Max \n",
       "-0.92398 -0.12658  0.01925  0.07325  1.08770 \n",
       "\n",
       "Coefficients:\n",
       "                      Estimate Std. Error t value Pr(>|t|)\n",
       "(Intercept)          -0.006681   0.033768  -0.198    0.844\n",
       "adjclosestock_return  0.195158   0.684111   0.285    0.776\n",
       "\n",
       "Residual standard error: 0.2903 on 74 degrees of freedom\n",
       "Multiple R-squared:  0.001099,\tAdjusted R-squared:  -0.0124 \n",
       "F-statistic: 0.08138 on 1 and 74 DF,  p-value: 0.7762\n"
      ]
     },
     "metadata": {},
     "output_type": "display_data"
    },
    {
     "data": {
      "text/plain": [
       "\n",
       "Call:\n",
       "lm(formula = grade9price_return ~ adjclosestock_return, data = charizard_b99)\n",
       "\n",
       "Residuals:\n",
       "     Min       1Q   Median       3Q      Max \n",
       "-0.60673 -0.11385 -0.00380  0.08074  1.04662 \n",
       "\n",
       "Coefficients:\n",
       "                     Estimate Std. Error t value Pr(>|t|)  \n",
       "(Intercept)           0.03278    0.02589   1.266   0.2094  \n",
       "adjclosestock_return -0.90946    0.52909  -1.719   0.0897 .\n",
       "---\n",
       "Signif. codes:  0 ‘***’ 0.001 ‘**’ 0.01 ‘*’ 0.05 ‘.’ 0.1 ‘ ’ 1\n",
       "\n",
       "Residual standard error: 0.2254 on 76 degrees of freedom\n",
       "Multiple R-squared:  0.03742,\tAdjusted R-squared:  0.02476 \n",
       "F-statistic: 2.955 on 1 and 76 DF,  p-value: 0.0897\n"
      ]
     },
     "metadata": {},
     "output_type": "display_data"
    },
    {
     "data": {
      "text/plain": [
       "\n",
       "Call:\n",
       "lm(formula = grade9price_return ~ adjclosestock_return, data = charizard_16)\n",
       "\n",
       "Residuals:\n",
       "     Min       1Q   Median       3Q      Max \n",
       "-1.14711 -0.15929 -0.02284  0.13213  1.12315 \n",
       "\n",
       "Coefficients:\n",
       "                     Estimate Std. Error t value Pr(>|t|)  \n",
       "(Intercept)           0.01831    0.03800   0.482   0.6314  \n",
       "adjclosestock_return -1.36972    0.76527  -1.790   0.0776 .\n",
       "---\n",
       "Signif. codes:  0 ‘***’ 0.001 ‘**’ 0.01 ‘*’ 0.05 ‘.’ 0.1 ‘ ’ 1\n",
       "\n",
       "Residual standard error: 0.3247 on 73 degrees of freedom\n",
       "Multiple R-squared:  0.04204,\tAdjusted R-squared:  0.02892 \n",
       "F-statistic: 3.204 on 1 and 73 DF,  p-value: 0.07762\n"
      ]
     },
     "metadata": {},
     "output_type": "display_data"
    },
    {
     "data": {
      "text/plain": [
       "\n",
       "Call:\n",
       "lm(formula = grade9price_return ~ adjclosestock_return, data = charizard_rf16)\n",
       "\n",
       "Residuals:\n",
       "     Min       1Q   Median       3Q      Max \n",
       "-0.69531 -0.25197  0.00249  0.21254  1.22830 \n",
       "\n",
       "Coefficients:\n",
       "                     Estimate Std. Error t value Pr(>|t|)\n",
       "(Intercept)           0.02577    0.03903   0.660    0.511\n",
       "adjclosestock_return -1.28037    0.78179  -1.638    0.106\n",
       "\n",
       "Residual standard error: 0.3275 on 70 degrees of freedom\n",
       "Multiple R-squared:  0.0369,\tAdjusted R-squared:  0.02314 \n",
       "F-statistic: 2.682 on 1 and 70 DF,  p-value: 0.106\n"
      ]
     },
     "metadata": {},
     "output_type": "display_data"
    }
   ],
   "source": [
    "summary(lm(grade9price_return~adjclosestock_return, data = blastouse_99))\n",
    "summary(lm(grade9price_return~adjclosestock_return, data = venusaur))\n",
    "summary(lm(grade9price_return~adjclosestock_return, data = machamp))\n",
    "summary(lm(grade9price_return~adjclosestock_return, data = charizard_19))\n",
    "summary(lm(grade9price_return~adjclosestock_return, data = charizard_d20))\n",
    "summary(lm(grade9price_return~adjclosestock_return, data = charizard_20))\n",
    "summary(lm(grade9price_return~adjclosestock_return, data = charizard_ev16))\n",
    "summary(lm(grade9price_return~adjclosestock_return, data = charizard_b99))\n",
    "summary(lm(grade9price_return~adjclosestock_return, data = charizard_16))\n",
    "summary(lm(grade9price_return~adjclosestock_return, data = charizard_rf16))"
   ]
  },
  {
   "cell_type": "code",
   "execution_count": 19,
   "id": "52667e29-c735-4ead-8779-79b538acc20b",
   "metadata": {},
   "outputs": [
    {
     "data": {
      "text/plain": [
       "\n",
       "Call:\n",
       "lm(formula = grade8price_return ~ adjclosestock_return, data = blastouse_99)\n",
       "\n",
       "Residuals:\n",
       "     Min       1Q   Median       3Q      Max \n",
       "-0.60022 -0.12552 -0.02613  0.15318  0.84836 \n",
       "\n",
       "Coefficients:\n",
       "                     Estimate Std. Error t value Pr(>|t|)\n",
       "(Intercept)           0.02529    0.03441   0.735    0.465\n",
       "adjclosestock_return -1.02048    0.70723  -1.443    0.153\n",
       "\n",
       "Residual standard error: 0.3014 on 77 degrees of freedom\n",
       "Multiple R-squared:  0.02633,\tAdjusted R-squared:  0.01368 \n",
       "F-statistic: 2.082 on 1 and 77 DF,  p-value: 0.1531\n"
      ]
     },
     "metadata": {},
     "output_type": "display_data"
    },
    {
     "data": {
      "text/plain": [
       "\n",
       "Call:\n",
       "lm(formula = grade8price_return ~ adjclosestock_return, data = venusaur)\n",
       "\n",
       "Residuals:\n",
       "    Min      1Q  Median      3Q     Max \n",
       "-0.4726 -0.1265 -0.0224  0.1549  0.9770 \n",
       "\n",
       "Coefficients:\n",
       "                     Estimate Std. Error t value Pr(>|t|)\n",
       "(Intercept)           0.02040    0.02918   0.699    0.487\n",
       "adjclosestock_return -0.14317    0.59623  -0.240    0.811\n",
       "\n",
       "Residual standard error: 0.2541 on 76 degrees of freedom\n",
       "Multiple R-squared:  0.0007581,\tAdjusted R-squared:  -0.01239 \n",
       "F-statistic: 0.05766 on 1 and 76 DF,  p-value: 0.8109\n"
      ]
     },
     "metadata": {},
     "output_type": "display_data"
    },
    {
     "data": {
      "text/plain": [
       "\n",
       "Call:\n",
       "lm(formula = grade8price_return ~ adjclosestock_return, data = machamp)\n",
       "\n",
       "Residuals:\n",
       "     Min       1Q   Median       3Q      Max \n",
       "-1.41121 -0.19285 -0.01142  0.21872  1.29102 \n",
       "\n",
       "Coefficients:\n",
       "                      Estimate Std. Error t value Pr(>|t|)\n",
       "(Intercept)           0.007765   0.045887   0.169    0.866\n",
       "adjclosestock_return -0.436618   0.943130  -0.463    0.645\n",
       "\n",
       "Residual standard error: 0.4019 on 77 degrees of freedom\n",
       "Multiple R-squared:  0.002776,\tAdjusted R-squared:  -0.01018 \n",
       "F-statistic: 0.2143 on 1 and 77 DF,  p-value: 0.6447\n"
      ]
     },
     "metadata": {},
     "output_type": "display_data"
    },
    {
     "data": {
      "text/plain": [
       "\n",
       "Call:\n",
       "lm(formula = grade8price_return ~ adjclosestock_return, data = charizard_19)\n",
       "\n",
       "Residuals:\n",
       "    Min      1Q  Median      3Q     Max \n",
       "-3.4186 -0.0635 -0.0063  0.0690  1.8074 \n",
       "\n",
       "Coefficients:\n",
       "                      Estimate Std. Error t value Pr(>|t|)\n",
       "(Intercept)          -0.005144   0.104519  -0.049    0.961\n",
       "adjclosestock_return  0.565877   1.830204   0.309    0.759\n",
       "\n",
       "Residual standard error: 0.6789 on 41 degrees of freedom\n",
       "Multiple R-squared:  0.002326,\tAdjusted R-squared:  -0.02201 \n",
       "F-statistic: 0.0956 on 1 and 41 DF,  p-value: 0.7587\n"
      ]
     },
     "metadata": {},
     "output_type": "display_data"
    },
    {
     "data": {
      "text/plain": [
       "\n",
       "Call:\n",
       "lm(formula = grade8price_return ~ adjclosestock_return, data = charizard_ev16)\n",
       "\n",
       "Residuals:\n",
       "     Min       1Q   Median       3Q      Max \n",
       "-0.82829 -0.05682 -0.01651  0.05515  1.05397 \n",
       "\n",
       "Coefficients:\n",
       "                     Estimate Std. Error t value Pr(>|t|)\n",
       "(Intercept)           0.00898    0.03607   0.249    0.804\n",
       "adjclosestock_return  0.52756    0.73081   0.722    0.473\n",
       "\n",
       "Residual standard error: 0.3101 on 74 degrees of freedom\n",
       "Multiple R-squared:  0.006993,\tAdjusted R-squared:  -0.006426 \n",
       "F-statistic: 0.5211 on 1 and 74 DF,  p-value: 0.4726\n"
      ]
     },
     "metadata": {},
     "output_type": "display_data"
    },
    {
     "data": {
      "text/plain": [
       "\n",
       "Call:\n",
       "lm(formula = grade8price_return ~ adjclosestock_return, data = charizard_b99)\n",
       "\n",
       "Residuals:\n",
       "     Min       1Q   Median       3Q      Max \n",
       "-0.66917 -0.08215 -0.00849  0.09312  1.02774 \n",
       "\n",
       "Coefficients:\n",
       "                     Estimate Std. Error t value Pr(>|t|)\n",
       "(Intercept)           0.02639    0.02786   0.947    0.346\n",
       "adjclosestock_return -0.59253    0.56923  -1.041    0.301\n",
       "\n",
       "Residual standard error: 0.2425 on 76 degrees of freedom\n",
       "Multiple R-squared:  0.01406,\tAdjusted R-squared:  0.001084 \n",
       "F-statistic: 1.084 on 1 and 76 DF,  p-value: 0.3012\n"
      ]
     },
     "metadata": {},
     "output_type": "display_data"
    },
    {
     "data": {
      "text/plain": [
       "\n",
       "Call:\n",
       "lm(formula = grade8price_return ~ adjclosestock_return, data = charizard_16)\n",
       "\n",
       "Residuals:\n",
       "     Min       1Q   Median       3Q      Max \n",
       "-1.32027 -0.16293 -0.02294  0.19319  1.49749 \n",
       "\n",
       "Coefficients:\n",
       "                     Estimate Std. Error t value Pr(>|t|)\n",
       "(Intercept)           0.02450    0.05259   0.466    0.643\n",
       "adjclosestock_return -0.36542    1.05890  -0.345    0.731\n",
       "\n",
       "Residual standard error: 0.4493 on 73 degrees of freedom\n",
       "Multiple R-squared:  0.001629,\tAdjusted R-squared:  -0.01205 \n",
       "F-statistic: 0.1191 on 1 and 73 DF,  p-value: 0.731\n"
      ]
     },
     "metadata": {},
     "output_type": "display_data"
    },
    {
     "data": {
      "text/plain": [
       "\n",
       "Call:\n",
       "lm(formula = grade8price_return ~ adjclosestock_return, data = charizard_rf16)\n",
       "\n",
       "Residuals:\n",
       "     Min       1Q   Median       3Q      Max \n",
       "-1.02493 -0.13520 -0.01579  0.11239  1.36527 \n",
       "\n",
       "Coefficients:\n",
       "                     Estimate Std. Error t value Pr(>|t|)  \n",
       "(Intercept)           0.03380    0.04345   0.778   0.4392  \n",
       "adjclosestock_return -1.61991    0.87019  -1.862   0.0669 .\n",
       "---\n",
       "Signif. codes:  0 ‘***’ 0.001 ‘**’ 0.01 ‘*’ 0.05 ‘.’ 0.1 ‘ ’ 1\n",
       "\n",
       "Residual standard error: 0.3645 on 70 degrees of freedom\n",
       "Multiple R-squared:  0.04717,\tAdjusted R-squared:  0.03356 \n",
       "F-statistic: 3.465 on 1 and 70 DF,  p-value: 0.06686\n"
      ]
     },
     "metadata": {},
     "output_type": "display_data"
    }
   ],
   "source": [
    "summary(lm(grade8price_return~adjclosestock_return, data = blastouse_99))\n",
    "summary(lm(grade8price_return~adjclosestock_return, data = venusaur))\n",
    "summary(lm(grade8price_return~adjclosestock_return, data = machamp))\n",
    "summary(lm(grade8price_return~adjclosestock_return, data = charizard_19))\n",
    "summary(lm(grade8price_return~adjclosestock_return, data = charizard_ev16))\n",
    "summary(lm(grade8price_return~adjclosestock_return, data = charizard_b99))\n",
    "summary(lm(grade8price_return~adjclosestock_return, data = charizard_16))\n",
    "summary(lm(grade8price_return~adjclosestock_return, data = charizard_rf16))\n",
    "#no d_20, and 20"
   ]
  },
  {
   "cell_type": "code",
   "execution_count": 23,
   "id": "73323c3e-e1fb-4ecc-a672-0d5cedefcdc7",
   "metadata": {},
   "outputs": [
    {
     "data": {
      "text/plain": [
       "\n",
       "Call:\n",
       "lm(formula = grade7price_return ~ adjclosestock_return, data = blastouse_99)\n",
       "\n",
       "Residuals:\n",
       "     Min       1Q   Median       3Q      Max \n",
       "-1.07746 -0.11629 -0.01144  0.14777  1.12113 \n",
       "\n",
       "Coefficients:\n",
       "                     Estimate Std. Error t value Pr(>|t|)\n",
       "(Intercept)           0.01175    0.03966   0.296    0.768\n",
       "adjclosestock_return  0.81092    0.81521   0.995    0.323\n",
       "\n",
       "Residual standard error: 0.3474 on 77 degrees of freedom\n",
       "Multiple R-squared:  0.01269,\tAdjusted R-squared:  -0.0001344 \n",
       "F-statistic: 0.9895 on 1 and 77 DF,  p-value: 0.323\n"
      ]
     },
     "metadata": {},
     "output_type": "display_data"
    },
    {
     "data": {
      "text/plain": [
       "\n",
       "Call:\n",
       "lm(formula = grade7price_return ~ adjclosestock_return, data = venusaur)\n",
       "\n",
       "Residuals:\n",
       "     Min       1Q   Median       3Q      Max \n",
       "-1.14517 -0.09506 -0.01763  0.10188  1.45581 \n",
       "\n",
       "Coefficients:\n",
       "                     Estimate Std. Error t value Pr(>|t|)\n",
       "(Intercept)           0.02588    0.04122   0.628    0.532\n",
       "adjclosestock_return -0.28471    0.84237  -0.338    0.736\n",
       "\n",
       "Residual standard error: 0.3589 on 76 degrees of freedom\n",
       "Multiple R-squared:  0.001501,\tAdjusted R-squared:  -0.01164 \n",
       "F-statistic: 0.1142 on 1 and 76 DF,  p-value: 0.7363\n"
      ]
     },
     "metadata": {},
     "output_type": "display_data"
    },
    {
     "data": {
      "text/plain": [
       "\n",
       "Call:\n",
       "lm(formula = grade7price_return ~ adjclosestock_return, data = machamp)\n",
       "\n",
       "Residuals:\n",
       "     Min       1Q   Median       3Q      Max \n",
       "-1.56486 -0.13781  0.01918  0.20190  1.63306 \n",
       "\n",
       "Coefficients:\n",
       "                     Estimate Std. Error t value Pr(>|t|)\n",
       "(Intercept)          0.008447   0.052648   0.160    0.873\n",
       "adjclosestock_return 0.637064   1.082074   0.589    0.558\n",
       "\n",
       "Residual standard error: 0.4611 on 77 degrees of freedom\n",
       "Multiple R-squared:  0.004481,\tAdjusted R-squared:  -0.008447 \n",
       "F-statistic: 0.3466 on 1 and 77 DF,  p-value: 0.5578\n"
      ]
     },
     "metadata": {},
     "output_type": "display_data"
    },
    {
     "data": {
      "text/plain": [
       "\n",
       "Call:\n",
       "lm(formula = grade7price_return ~ adjclosestock_return, data = charizard_b99)\n",
       "\n",
       "Residuals:\n",
       "     Min       1Q   Median       3Q      Max \n",
       "-0.71791 -0.13298 -0.01636  0.11289  1.03908 \n",
       "\n",
       "Coefficients:\n",
       "                     Estimate Std. Error t value Pr(>|t|)\n",
       "(Intercept)           0.01749    0.03523   0.496    0.621\n",
       "adjclosestock_return -0.06366    0.71999  -0.088    0.930\n",
       "\n",
       "Residual standard error: 0.3068 on 76 degrees of freedom\n",
       "Multiple R-squared:  0.0001028,\tAdjusted R-squared:  -0.01305 \n",
       "F-statistic: 0.007817 on 1 and 76 DF,  p-value: 0.9298\n"
      ]
     },
     "metadata": {},
     "output_type": "display_data"
    },
    {
     "data": {
      "text/plain": [
       "\n",
       "Call:\n",
       "lm(formula = grade7price_return ~ adjclosestock_return, data = charizard_16)\n",
       "\n",
       "Residuals:\n",
       "     Min       1Q   Median       3Q      Max \n",
       "-1.74859 -0.08438 -0.01119  0.00468  1.96101 \n",
       "\n",
       "Coefficients:\n",
       "                     Estimate Std. Error t value Pr(>|t|)\n",
       "(Intercept)           0.01301    0.05503   0.237    0.814\n",
       "adjclosestock_return -0.33430    1.10804  -0.302    0.764\n",
       "\n",
       "Residual standard error: 0.4702 on 73 degrees of freedom\n",
       "Multiple R-squared:  0.001245,\tAdjusted R-squared:  -0.01244 \n",
       "F-statistic: 0.09103 on 1 and 73 DF,  p-value: 0.7637\n"
      ]
     },
     "metadata": {},
     "output_type": "display_data"
    }
   ],
   "source": [
    "summary(lm(grade7price_return~adjclosestock_return, data = blastouse_99))\n",
    "summary(lm(grade7price_return~adjclosestock_return, data = venusaur))\n",
    "summary(lm(grade7price_return~adjclosestock_return, data = machamp))\n",
    "summary(lm(grade7price_return~adjclosestock_return, data = charizard_b99))\n",
    "summary(lm(grade7price_return~adjclosestock_return, data = charizard_16))\n",
    "#no 19, no 2 x 16"
   ]
  },
  {
   "cell_type": "code",
   "execution_count": 25,
   "id": "4dc60b79-6e8a-4724-a5a5-e465d42e2c83",
   "metadata": {},
   "outputs": [
    {
     "data": {
      "text/plain": [
       "\n",
       "Call:\n",
       "lm(formula = grade6price_return ~ adjclosestock_return, data = blastouse_99)\n",
       "\n",
       "Residuals:\n",
       "     Min       1Q   Median       3Q      Max \n",
       "-0.86742 -0.17586 -0.01524  0.12273  0.98173 \n",
       "\n",
       "Coefficients:\n",
       "                     Estimate Std. Error t value Pr(>|t|)\n",
       "(Intercept)           0.01837    0.04014   0.458    0.648\n",
       "adjclosestock_return -0.30175    0.82494  -0.366    0.716\n",
       "\n",
       "Residual standard error: 0.3515 on 77 degrees of freedom\n",
       "Multiple R-squared:  0.001735,\tAdjusted R-squared:  -0.01123 \n",
       "F-statistic: 0.1338 on 1 and 77 DF,  p-value: 0.7155\n"
      ]
     },
     "metadata": {},
     "output_type": "display_data"
    },
    {
     "data": {
      "text/plain": [
       "\n",
       "Call:\n",
       "lm(formula = grade6price_return ~ adjclosestock_return, data = venusaur)\n",
       "\n",
       "Residuals:\n",
       "     Min       1Q   Median       3Q      Max \n",
       "-0.79234 -0.18813 -0.01556  0.06942  1.54935 \n",
       "\n",
       "Coefficients:\n",
       "                     Estimate Std. Error t value Pr(>|t|)\n",
       "(Intercept)           0.01660    0.04674   0.355    0.723\n",
       "adjclosestock_return -0.19911    0.95504  -0.208    0.835\n",
       "\n",
       "Residual standard error: 0.4069 on 76 degrees of freedom\n",
       "Multiple R-squared:  0.0005716,\tAdjusted R-squared:  -0.01258 \n",
       "F-statistic: 0.04346 on 1 and 76 DF,  p-value: 0.8354\n"
      ]
     },
     "metadata": {},
     "output_type": "display_data"
    },
    {
     "data": {
      "text/plain": [
       "\n",
       "Call:\n",
       "lm(formula = grade6price_return ~ adjclosestock_return, data = machamp)\n",
       "\n",
       "Residuals:\n",
       "     Min       1Q   Median       3Q      Max \n",
       "-1.50484 -0.24624 -0.01737  0.22539  1.71942 \n",
       "\n",
       "Coefficients:\n",
       "                     Estimate Std. Error t value Pr(>|t|)\n",
       "(Intercept)           0.01654    0.06017   0.275    0.784\n",
       "adjclosestock_return  0.17252    1.23675   0.139    0.889\n",
       "\n",
       "Residual standard error: 0.527 on 77 degrees of freedom\n",
       "Multiple R-squared:  0.0002526,\tAdjusted R-squared:  -0.01273 \n",
       "F-statistic: 0.01946 on 1 and 77 DF,  p-value: 0.8894\n"
      ]
     },
     "metadata": {},
     "output_type": "display_data"
    },
    {
     "data": {
      "text/plain": [
       "\n",
       "Call:\n",
       "lm(formula = grade6price_return ~ adjclosestock_return, data = charizard_b99)\n",
       "\n",
       "Residuals:\n",
       "     Min       1Q   Median       3Q      Max \n",
       "-0.53946 -0.16658 -0.02441  0.12775  1.02900 \n",
       "\n",
       "Coefficients:\n",
       "                     Estimate Std. Error t value Pr(>|t|)\n",
       "(Intercept)           0.03400    0.03275   1.038    0.302\n",
       "adjclosestock_return -0.82671    0.66914  -1.235    0.220\n",
       "\n",
       "Residual standard error: 0.2851 on 76 degrees of freedom\n",
       "Multiple R-squared:  0.01969,\tAdjusted R-squared:  0.00679 \n",
       "F-statistic: 1.526 on 1 and 76 DF,  p-value: 0.2205\n"
      ]
     },
     "metadata": {},
     "output_type": "display_data"
    }
   ],
   "source": [
    "summary(lm(grade6price_return~adjclosestock_return, data = blastouse_99))\n",
    "summary(lm(grade6price_return~adjclosestock_return, data = venusaur))\n",
    "summary(lm(grade6price_return~adjclosestock_return, data = machamp))\n",
    "summary(lm(grade6price_return~adjclosestock_return, data = charizard_b99))\n",
    "#no 16"
   ]
  },
  {
   "cell_type": "code",
   "execution_count": 27,
   "id": "bc430ebe-1849-4bb5-826e-0fafaab22424",
   "metadata": {},
   "outputs": [
    {
     "data": {
      "text/plain": [
       "\n",
       "Call:\n",
       "lm(formula = grade5price_return ~ adjclosestock_return, data = blastouse_99)\n",
       "\n",
       "Residuals:\n",
       "     Min       1Q   Median       3Q      Max \n",
       "-1.09358 -0.08032 -0.01615  0.03136  1.98294 \n",
       "\n",
       "Coefficients:\n",
       "                     Estimate Std. Error t value Pr(>|t|)\n",
       "(Intercept)           0.02871    0.03914   0.734    0.465\n",
       "adjclosestock_return -0.73738    0.80442  -0.917    0.362\n",
       "\n",
       "Residual standard error: 0.3428 on 77 degrees of freedom\n",
       "Multiple R-squared:  0.01079,\tAdjusted R-squared:  -0.002052 \n",
       "F-statistic: 0.8403 on 1 and 77 DF,  p-value: 0.3622\n"
      ]
     },
     "metadata": {},
     "output_type": "display_data"
    },
    {
     "data": {
      "text/plain": [
       "\n",
       "Call:\n",
       "lm(formula = grade5price_return ~ adjclosestock_return, data = machamp)\n",
       "\n",
       "Residuals:\n",
       "     Min       1Q   Median       3Q      Max \n",
       "-2.70186 -0.17220 -0.00668  0.15706  2.43767 \n",
       "\n",
       "Coefficients:\n",
       "                       Estimate Std. Error t value Pr(>|t|)\n",
       "(Intercept)          -0.0009804  0.0689101  -0.014    0.989\n",
       "adjclosestock_return  0.5266876  1.4163165   0.372    0.711\n",
       "\n",
       "Residual standard error: 0.6036 on 77 degrees of freedom\n",
       "Multiple R-squared:  0.001793,\tAdjusted R-squared:  -0.01117 \n",
       "F-statistic: 0.1383 on 1 and 77 DF,  p-value: 0.711\n"
      ]
     },
     "metadata": {},
     "output_type": "display_data"
    },
    {
     "data": {
      "text/plain": [
       "\n",
       "Call:\n",
       "lm(formula = grade5price_return ~ adjclosestock_return, data = charizard_b99)\n",
       "\n",
       "Residuals:\n",
       "     Min       1Q   Median       3Q      Max \n",
       "-0.92692 -0.05291 -0.01139  0.11702  1.24253 \n",
       "\n",
       "Coefficients:\n",
       "                     Estimate Std. Error t value Pr(>|t|)\n",
       "(Intercept)           0.02183    0.03664   0.596    0.553\n",
       "adjclosestock_return -0.53794    0.74862  -0.719    0.475\n",
       "\n",
       "Residual standard error: 0.319 on 76 degrees of freedom\n",
       "Multiple R-squared:  0.006748,\tAdjusted R-squared:  -0.006321 \n",
       "F-statistic: 0.5164 on 1 and 76 DF,  p-value: 0.4746\n"
      ]
     },
     "metadata": {},
     "output_type": "display_data"
    }
   ],
   "source": [
    "summary(lm(grade5price_return~adjclosestock_return, data = blastouse_99))\n",
    "summary(lm(grade5price_return~adjclosestock_return, data = machamp))\n",
    "summary(lm(grade5price_return~adjclosestock_return, data = charizard_b99))\n",
    "#no venosaur"
   ]
  },
  {
   "cell_type": "code",
   "execution_count": 137,
   "id": "5adfc359-3bea-4676-a50d-e2d90d9b48ad",
   "metadata": {},
   "outputs": [
    {
     "data": {
      "text/html": [
       "26"
      ],
      "text/latex": [
       "26"
      ],
      "text/markdown": [
       "26"
      ],
      "text/plain": [
       "[1] 26"
      ]
     },
     "metadata": {},
     "output_type": "display_data"
    }
   ],
   "source": [
    "# Assuming you have 10 data frames named blastouse_99, venusaur, machamp, charizard_19, charizard_d20, charizard_20, charizard_ev16,\n",
    "# charizard_b99, charizard_16, charizard_rf16\n",
    "# Each data frame has a \"date\" column\n",
    "\n",
    "# Identify the common set of dates\n",
    "common_dates <- Reduce(intersect, lapply(list(blastouse_99, venusaur, machamp, charizard_19, charizard_d20, charizard_20, charizard_ev16,\n",
    "                                             charizard_b99, charizard_16, charizard_rf16), \n",
    "                                         function(df) df$date))\n",
    "\n",
    "# Merge each dataset into a separate dataset based on dates\n",
    "merged_venusaur <- merge(venusaur, data.frame(date = common_dates), by = \"date\", all.x = FALSE)\n",
    "merged_machamp <- merge(machamp, data.frame(date = common_dates), by = \"date\", all.x = FALSE)\n",
    "merged_charizard_19 <- merge(charizard_19, data.frame(date = common_dates), by = \"date\", all.x = FALSE)\n",
    "merged_charizard_d20 <- merge(charizard_d20, data.frame(date = common_dates), by = \"date\", all.x = FALSE)\n",
    "merged_charizard_20 <- merge(charizard_20, data.frame(date = common_dates), by = \"date\", all.x = FALSE)\n",
    "merged_charizard_ev16 <- merge(charizard_ev16, data.frame(date = common_dates), by = \"date\", all.x = FALSE)\n",
    "merged_charizard_b99 <- merge(charizard_b99, data.frame(date = common_dates), by = \"date\", all.x = FALSE)\n",
    "merged_charizard_16 <- merge(charizard_16, data.frame(date = common_dates), by = \"date\", all.x = FALSE)\n",
    "merged_charizard_rf16 <- merge(charizard_rf16, data.frame(date = common_dates), by = \"date\", all.x = FALSE)\n",
    "merged_blastouse_99 <- merge(blastouse_99, data.frame(date = common_dates), by = \"date\", all.x = FALSE)\n",
    "length(merged_venusaur$date)"
   ]
  },
  {
   "cell_type": "code",
   "execution_count": 138,
   "id": "b9e24d41-63eb-489b-b211-e869015ee455",
   "metadata": {},
   "outputs": [],
   "source": [
    "# Assuming you have a dataset named merged_venusaur\n",
    "# Extract the \"grade10price_return\" column and store it in a new dataset\n",
    "grade_10 <- data.frame(venosaur = merged_venusaur$grade10price_return, machamp = merged_machamp$grade10price_return, blastouse_99 = merged_blastouse_99$grade10price_return,\n",
    "                      charizard_19 = merged_charizard_19$grade10price_return, charizard_d20 = merged_charizard_d20$grade10price_return, charizard_20 = merged_charizard_20$grade10price_return,\n",
    "                      charizard_ev16 = merged_charizard_ev16$grade10price_return, charizard_b99 = merged_charizard_b99$grade10price_return, charizard_16 = merged_charizard_16$grade10price_return,\n",
    "                      charizard_rf16 = merged_charizard_rf16$grade10price_return, stocks = merged_machamp$adjclosestock_return)\n",
    "\n",
    "\n",
    "\n"
   ]
  },
  {
   "cell_type": "code",
   "execution_count": 139,
   "id": "4205d8bc-fc9f-4164-81b9-14531fcf1004",
   "metadata": {},
   "outputs": [
    {
     "data": {
      "image/png": "[encoded data removed]",
      "text/plain": [
       "Plot with title “Correlation Heatmap - Grade 10 Price Returns”"
      ]
     },
     "metadata": {
      "image/png": {
       "height": 420,
       "width": 420
      }
     },
     "output_type": "display_data"
    }
   ],
   "source": [
    "cor_matrix <- cor(grade_10)\n",
    "\n",
    "# Plot the correlation heatmap\n",
    "heatmap(cor_matrix, \n",
    "        main = \"Correlation Heatmap - Grade 10 Price Returns\", )"
   ]
  },
  {
   "cell_type": "code",
   "execution_count": 140,
   "id": "04a84970-4fc0-494b-b447-4ee42e0bcb41",
   "metadata": {},
   "outputs": [
    {
     "data": {
      "text/html": [
       "72"
      ],
      "text/latex": [
       "72"
      ],
      "text/markdown": [
       "72"
      ],
      "text/plain": [
       "[1] 72"
      ]
     },
     "metadata": {},
     "output_type": "display_data"
    }
   ],
   "source": [
    "# Assuming you have 10 data frames named blastouse_99, venusaur, machamp, charizard_19, charizard_d20, charizard_20, charizard_ev16,\n",
    "# charizard_b99, charizard_16, charizard_rf16\n",
    "# Each data frame has a \"date\" column\n",
    "\n",
    "# Identify the common set of dates\n",
    "common_dates <- Reduce(intersect, lapply(list(blastouse_99, venusaur, machamp,  charizard_ev16,\n",
    "                                             charizard_b99, charizard_16, charizard_rf16), \n",
    "                                         function(df) df$date))\n",
    "\n",
    "# Merge each dataset into a separate dataset based on dates\n",
    "merged_venusaur <- merge(venusaur, data.frame(date = common_dates), by = \"date\", all.x = FALSE)\n",
    "merged_machamp <- merge(machamp, data.frame(date = common_dates), by = \"date\", all.x = FALSE)\n",
    "merged_charizard_19 <- merge(charizard_19, data.frame(date = common_dates), by = \"date\", all.x = FALSE)\n",
    "merged_charizard_d20 <- merge(charizard_d20, data.frame(date = common_dates), by = \"date\", all.x = FALSE)\n",
    "merged_charizard_20 <- merge(charizard_20, data.frame(date = common_dates), by = \"date\", all.x = FALSE)\n",
    "merged_charizard_ev16 <- merge(charizard_ev16, data.frame(date = common_dates), by = \"date\", all.x = FALSE)\n",
    "merged_charizard_b99 <- merge(charizard_b99, data.frame(date = common_dates), by = \"date\", all.x = FALSE)\n",
    "merged_charizard_16 <- merge(charizard_16, data.frame(date = common_dates), by = \"date\", all.x = FALSE)\n",
    "merged_charizard_rf16 <- merge(charizard_rf16, data.frame(date = common_dates), by = \"date\", all.x = FALSE)\n",
    "merged_blastouse_99 <- merge(blastouse_99, data.frame(date = common_dates), by = \"date\", all.x = FALSE)\n",
    "length(merged_venusaur$date)\n",
    "grade_reduced_10 <- data.frame(venosaur = merged_venusaur$grade10price_return, machamp = merged_machamp$grade10price_return, blastouse_99 = merged_blastouse_99$grade10price_return,\n",
    "                      charizard_ev16 = merged_charizard_ev16$grade10price_return, charizard_b99 = merged_charizard_b99$grade10price_return, charizard_16 = merged_charizard_16$grade10price_return,\n",
    "                      charizard_rf16 = merged_charizard_rf16$grade10price_return, stocks = merged_machamp$adjclosestock_return)"
   ]
  },
  {
   "cell_type": "code",
   "execution_count": 141,
   "id": "108236ed-1b82-433d-a75b-687049ecb1a6",
   "metadata": {},
   "outputs": [
    {
     "data": {
      "image/png": "[encoded data removed]",
      "text/plain": [
       "Plot with title “Correlation Heatmap - Grade 10 Price Returns older cards”"
      ]
     },
     "metadata": {
      "image/png": {
       "height": 420,
       "width": 420
      }
     },
     "output_type": "display_data"
    }
   ],
   "source": [
    "cor_matrix <- cor(grade_reduced_10)\n",
    "\n",
    "# Plot the correlation heatmap\n",
    "heatmap(cor_matrix, \n",
    "        main = \"Correlation Heatmap - Grade 10 Price Returns older cards\", )"
   ]
  },
  {
   "cell_type": "code",
   "execution_count": 142,
   "id": "a973c2eb-34d1-4742-ac34-c6e64dcc9e46",
   "metadata": {},
   "outputs": [
    {
     "data": {
      "text/html": [
       "78"
      ],
      "text/latex": [
       "78"
      ],
      "text/markdown": [
       "78"
      ],
      "text/plain": [
       "[1] 78"
      ]
     },
     "metadata": {},
     "output_type": "display_data"
    }
   ],
   "source": [
    "# Assuming you have 10 data frames named blastouse_99, venusaur, machamp, charizard_19, charizard_d20, charizard_20, charizard_ev16,\n",
    "# charizard_b99, charizard_16, charizard_rf16\n",
    "# Each data frame has a \"date\" column\n",
    "\n",
    "# Identify the common set of dates\n",
    "common_dates <- Reduce(intersect, lapply(list(blastouse_99, venusaur, machamp, \n",
    "                                             charizard_b99), \n",
    "                                         function(df) df$date))\n",
    "\n",
    "# Merge each dataset into a separate dataset based on dates\n",
    "merged_venusaur <- merge(venusaur, data.frame(date = common_dates), by = \"date\", all.x = FALSE)\n",
    "merged_machamp <- merge(machamp, data.frame(date = common_dates), by = \"date\", all.x = FALSE)\n",
    "merged_charizard_19 <- merge(charizard_19, data.frame(date = common_dates), by = \"date\", all.x = FALSE)\n",
    "merged_charizard_d20 <- merge(charizard_d20, data.frame(date = common_dates), by = \"date\", all.x = FALSE)\n",
    "merged_charizard_20 <- merge(charizard_20, data.frame(date = common_dates), by = \"date\", all.x = FALSE)\n",
    "merged_charizard_ev16 <- merge(charizard_ev16, data.frame(date = common_dates), by = \"date\", all.x = FALSE)\n",
    "merged_charizard_b99 <- merge(charizard_b99, data.frame(date = common_dates), by = \"date\", all.x = FALSE)\n",
    "merged_charizard_16 <- merge(charizard_16, data.frame(date = common_dates), by = \"date\", all.x = FALSE)\n",
    "merged_charizard_rf16 <- merge(charizard_rf16, data.frame(date = common_dates), by = \"date\", all.x = FALSE)\n",
    "merged_blastouse_99 <- merge(blastouse_99, data.frame(date = common_dates), by = \"date\", all.x = FALSE)\n",
    "length(merged_venusaur$date)\n",
    "grade_reduced_most_10 <- data.frame(venosaur = merged_venusaur$grade10price_return, machamp = merged_machamp$grade10price_return, blastouse_99 = merged_blastouse_99$grade10price_return,\n",
    "                      charizard_b99 = merged_charizard_b99$grade10price_return, stocks = merged_machamp$adjclosestock_return\n",
    "                                   )"
   ]
  },
  {
   "cell_type": "code",
   "execution_count": 143,
   "id": "cc8d4c95-ecd1-4893-9afb-cc5b8ff426a0",
   "metadata": {},
   "outputs": [
    {
     "data": {
      "text/html": [
       "<table class=\"dataframe\">\n",
       "<caption>A matrix: 5 × 5 of type dbl</caption>\n",
       "<thead>\n",
       "\t<tr><th></th><th scope=col>venosaur</th><th scope=col>machamp</th><th scope=col>blastouse_99</th><th scope=col>charizard_b99</th><th scope=col>stocks</th></tr>\n",
       "</thead>\n",
       "<tbody>\n",
       "\t<tr><th scope=row>venosaur</th><td> 1.00000000</td><td>-0.04099810</td><td> 0.23594412</td><td> 0.3943508</td><td>-0.09765506</td></tr>\n",
       "\t<tr><th scope=row>machamp</th><td>-0.04099810</td><td> 1.00000000</td><td>-0.04792148</td><td> 0.3167445</td><td>-0.01602285</td></tr>\n",
       "\t<tr><th scope=row>blastouse_99</th><td> 0.23594412</td><td>-0.04792148</td><td> 1.00000000</td><td> 0.2041384</td><td> 0.01162347</td></tr>\n",
       "\t<tr><th scope=row>charizard_b99</th><td> 0.39435077</td><td> 0.31674445</td><td> 0.20413844</td><td> 1.0000000</td><td>-0.10306607</td></tr>\n",
       "\t<tr><th scope=row>stocks</th><td>-0.09765506</td><td>-0.01602285</td><td> 0.01162347</td><td>-0.1030661</td><td> 1.00000000</td></tr>\n",
       "</tbody>\n",
       "</table>\n"
      ],
      "text/latex": [
       "A matrix: 5 × 5 of type dbl\n",
       "\\begin{tabular}{r|lllll}\n",
       "  & venosaur & machamp & blastouse\\_99 & charizard\\_b99 & stocks\\\\\n",
       "\\hline\n",
       "\tvenosaur &  1.00000000 & -0.04099810 &  0.23594412 &  0.3943508 & -0.09765506\\\\\n",
       "\tmachamp & -0.04099810 &  1.00000000 & -0.04792148 &  0.3167445 & -0.01602285\\\\\n",
       "\tblastouse\\_99 &  0.23594412 & -0.04792148 &  1.00000000 &  0.2041384 &  0.01162347\\\\\n",
       "\tcharizard\\_b99 &  0.39435077 &  0.31674445 &  0.20413844 &  1.0000000 & -0.10306607\\\\\n",
       "\tstocks & -0.09765506 & -0.01602285 &  0.01162347 & -0.1030661 &  1.00000000\\\\\n",
       "\\end{tabular}\n"
      ],
      "text/markdown": [
       "\n",
       "A matrix: 5 × 5 of type dbl\n",
       "\n",
       "| <!--/--> | venosaur | machamp | blastouse_99 | charizard_b99 | stocks |\n",
       "|---|---|---|---|---|---|\n",
       "| venosaur |  1.00000000 | -0.04099810 |  0.23594412 |  0.3943508 | -0.09765506 |\n",
       "| machamp | -0.04099810 |  1.00000000 | -0.04792148 |  0.3167445 | -0.01602285 |\n",
       "| blastouse_99 |  0.23594412 | -0.04792148 |  1.00000000 |  0.2041384 |  0.01162347 |\n",
       "| charizard_b99 |  0.39435077 |  0.31674445 |  0.20413844 |  1.0000000 | -0.10306607 |\n",
       "| stocks | -0.09765506 | -0.01602285 |  0.01162347 | -0.1030661 |  1.00000000 |\n",
       "\n"
      ],
      "text/plain": [
       "              venosaur    machamp     blastouse_99 charizard_b99 stocks     \n",
       "venosaur       1.00000000 -0.04099810  0.23594412   0.3943508    -0.09765506\n",
       "machamp       -0.04099810  1.00000000 -0.04792148   0.3167445    -0.01602285\n",
       "blastouse_99   0.23594412 -0.04792148  1.00000000   0.2041384     0.01162347\n",
       "charizard_b99  0.39435077  0.31674445  0.20413844   1.0000000    -0.10306607\n",
       "stocks        -0.09765506 -0.01602285  0.01162347  -0.1030661     1.00000000"
      ]
     },
     "metadata": {},
     "output_type": "display_data"
    },
    {
     "data": {
      "image/png": "[encoded data removed]",
      "text/plain": [
       "Plot with title “Correlation Heatmap - Grade 10 Price Returns oldest cards”"
      ]
     },
     "metadata": {
      "image/png": {
       "height": 420,
       "width": 420
      }
     },
     "output_type": "display_data"
    }
   ],
   "source": [
    "cor_matrix <- cor(grade_reduced_most_10)\n",
    "cor_matrix\n",
    "\n",
    "# Plot the correlation heatmap\n",
    "heatmap(cor_matrix, \n",
    "        main = \"Correlation Heatmap - Grade 10 Price Returns oldest cards\")"
   ]
  },
  {
   "cell_type": "code",
   "execution_count": null,
   "id": "9eb6bd07-1188-44f7-9e11-d8aa9dda858d",
   "metadata": {},
   "outputs": [],
   "source": []
  }
 ],
 "metadata": {
  "kernelspec": {
   "display_name": "R",
   "language": "R",
   "name": "ir"
  },
  "language_info": {
   "codemirror_mode": "r",
   "file_extension": ".r",
   "mimetype": "text/x-r-source",
   "name": "R",
   "pygments_lexer": "r",
   "version": "4.3.1"
  }
 },
 "nbformat": 4,
 "nbformat_minor": 5
}
