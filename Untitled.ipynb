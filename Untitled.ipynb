{
 "cells": [
  {
   "cell_type": "code",
   "execution_count": 1,
   "id": "8bb76a99-44a4-48b0-a111-a9de0e159073",
   "metadata": {},
   "outputs": [
    {
     "name": "stderr",
     "output_type": "stream",
     "text": [
      "Updating HTML index of packages in '.Library'\n",
      "\n",
      "Making 'packages.html' ...\n",
      " done\n",
      "\n"
     ]
    }
   ],
   "source": [
    "#packages_installation\n",
    "#install.packages(\"readxl\")\n"
   ]
  },
  {
   "cell_type": "code",
   "execution_count": 130,
   "id": "edc274e7-063b-433e-962d-e9053b1cfeeb",
   "metadata": {},
   "outputs": [
    {
     "name": "stderr",
     "output_type": "stream",
     "text": [
      "── \u001b[1mAttaching core tidyverse packages\u001b[22m ──────────────────────── tidyverse 2.0.0 ──\n",
      "\u001b[32m✔\u001b[39m \u001b[34mdplyr    \u001b[39m 1.1.3     \u001b[32m✔\u001b[39m \u001b[34mreadr    \u001b[39m 2.1.4\n",
      "\u001b[32m✔\u001b[39m \u001b[34mforcats  \u001b[39m 1.0.0     \u001b[32m✔\u001b[39m \u001b[34mstringr  \u001b[39m 1.5.0\n",
      "\u001b[32m✔\u001b[39m \u001b[34mggplot2  \u001b[39m 3.4.3     \u001b[32m✔\u001b[39m \u001b[34mtibble   \u001b[39m 3.2.1\n",
      "\u001b[32m✔\u001b[39m \u001b[34mlubridate\u001b[39m 1.9.3     \u001b[32m✔\u001b[39m \u001b[34mtidyr    \u001b[39m 1.3.0\n",
      "\u001b[32m✔\u001b[39m \u001b[34mpurrr    \u001b[39m 1.0.2     \n",
      "── \u001b[1mConflicts\u001b[22m ────────────────────────────────────────── tidyverse_conflicts() ──\n",
      "\u001b[31m✖\u001b[39m \u001b[34mdplyr\u001b[39m::\u001b[32mfilter()\u001b[39m masks \u001b[34mstats\u001b[39m::filter()\n",
      "\u001b[31m✖\u001b[39m \u001b[34mdplyr\u001b[39m::\u001b[32mlag()\u001b[39m    masks \u001b[34mstats\u001b[39m::lag()\n",
      "\u001b[36mℹ\u001b[39m Use the conflicted package (\u001b[3m\u001b[34m<http://conflicted.r-lib.org/>\u001b[39m\u001b[23m) to force all conflicts to become errors\n"
     ]
    }
   ],
   "source": [
    "#opening packages\n",
    "library(readxl)\n",
    "library(tidyverse)\n",
    "\n"
   ]
  },
  {
   "cell_type": "code",
   "execution_count": 149,
   "id": "d029b122-6ed2-4578-a9b4-a81ab81c6fe5",
   "metadata": {},
   "outputs": [],
   "source": [
    "#loading pokemon dataset and changing the price values to numbers\n",
    "pokemon <- read_excel(\"card_prices_data.xlsx\")\n",
    "pokemon$Price <- as.numeric(gsub(\"[^0-9.]\", \"\", pokemon$Price))\n",
    "pokemon$Grade <- as.numeric(pokemon$Grade)"
   ]
  },
  {
   "cell_type": "code",
   "execution_count": 150,
   "id": "03a88ec5-508b-4a6c-bd77-7bcd03a47665",
   "metadata": {},
   "outputs": [
    {
     "data": {
      "text/html": [
       "<table class=\"dataframe\">\n",
       "<caption>A tibble: 6 × 6</caption>\n",
       "<thead>\n",
       "\t<tr><th scope=col>Date</th><th scope=col>Grade</th><th scope=col>Price</th><th scope=col>Sale Type</th><th scope=col>set_name</th><th scope=col>card_name</th></tr>\n",
       "\t<tr><th scope=col>&lt;chr&gt;</th><th scope=col>&lt;dbl&gt;</th><th scope=col>&lt;dbl&gt;</th><th scope=col>&lt;chr&gt;</th><th scope=col>&lt;chr&gt;</th><th scope=col>&lt;chr&gt;</th></tr>\n",
       "</thead>\n",
       "<tbody>\n",
       "\t<tr><td>2023-10-30</td><td> 9</td><td>12.50</td><td>Auction</td><td>2021 Pokemon Celebrations</td><td>HO-Oh</td></tr>\n",
       "\t<tr><td>2023-10-30</td><td> 8</td><td> 8.50</td><td>Auction</td><td>2021 Pokemon Celebrations</td><td>HO-Oh</td></tr>\n",
       "\t<tr><td>2023-10-27</td><td> 9</td><td> 7.00</td><td>Auction</td><td>2021 Pokemon Celebrations</td><td>HO-Oh</td></tr>\n",
       "\t<tr><td>2023-10-18</td><td> 9</td><td> 9.70</td><td>Auction</td><td>2021 Pokemon Celebrations</td><td>HO-Oh</td></tr>\n",
       "\t<tr><td>2023-10-06</td><td>10</td><td>29.13</td><td>Auction</td><td>2021 Pokemon Celebrations</td><td>HO-Oh</td></tr>\n",
       "\t<tr><td>2023-09-22</td><td> 8</td><td> 9.99</td><td>Auction</td><td>2021 Pokemon Celebrations</td><td>HO-Oh</td></tr>\n",
       "</tbody>\n",
       "</table>\n"
      ],
      "text/latex": [
       "A tibble: 6 × 6\n",
       "\\begin{tabular}{llllll}\n",
       " Date & Grade & Price & Sale Type & set\\_name & card\\_name\\\\\n",
       " <chr> & <dbl> & <dbl> & <chr> & <chr> & <chr>\\\\\n",
       "\\hline\n",
       "\t 2023-10-30 &  9 & 12.50 & Auction & 2021 Pokemon Celebrations & HO-Oh\\\\\n",
       "\t 2023-10-30 &  8 &  8.50 & Auction & 2021 Pokemon Celebrations & HO-Oh\\\\\n",
       "\t 2023-10-27 &  9 &  7.00 & Auction & 2021 Pokemon Celebrations & HO-Oh\\\\\n",
       "\t 2023-10-18 &  9 &  9.70 & Auction & 2021 Pokemon Celebrations & HO-Oh\\\\\n",
       "\t 2023-10-06 & 10 & 29.13 & Auction & 2021 Pokemon Celebrations & HO-Oh\\\\\n",
       "\t 2023-09-22 &  8 &  9.99 & Auction & 2021 Pokemon Celebrations & HO-Oh\\\\\n",
       "\\end{tabular}\n"
      ],
      "text/markdown": [
       "\n",
       "A tibble: 6 × 6\n",
       "\n",
       "| Date &lt;chr&gt; | Grade &lt;dbl&gt; | Price &lt;dbl&gt; | Sale Type &lt;chr&gt; | set_name &lt;chr&gt; | card_name &lt;chr&gt; |\n",
       "|---|---|---|---|---|---|\n",
       "| 2023-10-30 |  9 | 12.50 | Auction | 2021 Pokemon Celebrations | HO-Oh |\n",
       "| 2023-10-30 |  8 |  8.50 | Auction | 2021 Pokemon Celebrations | HO-Oh |\n",
       "| 2023-10-27 |  9 |  7.00 | Auction | 2021 Pokemon Celebrations | HO-Oh |\n",
       "| 2023-10-18 |  9 |  9.70 | Auction | 2021 Pokemon Celebrations | HO-Oh |\n",
       "| 2023-10-06 | 10 | 29.13 | Auction | 2021 Pokemon Celebrations | HO-Oh |\n",
       "| 2023-09-22 |  8 |  9.99 | Auction | 2021 Pokemon Celebrations | HO-Oh |\n",
       "\n"
      ],
      "text/plain": [
       "  Date       Grade Price Sale Type set_name                  card_name\n",
       "1 2023-10-30  9    12.50 Auction   2021 Pokemon Celebrations HO-Oh    \n",
       "2 2023-10-30  8     8.50 Auction   2021 Pokemon Celebrations HO-Oh    \n",
       "3 2023-10-27  9     7.00 Auction   2021 Pokemon Celebrations HO-Oh    \n",
       "4 2023-10-18  9     9.70 Auction   2021 Pokemon Celebrations HO-Oh    \n",
       "5 2023-10-06 10    29.13 Auction   2021 Pokemon Celebrations HO-Oh    \n",
       "6 2023-09-22  8     9.99 Auction   2021 Pokemon Celebrations HO-Oh    "
      ]
     },
     "metadata": {},
     "output_type": "display_data"
    }
   ],
   "source": [
    "#checking head\n",
    "head(pokemon)"
   ]
  },
  {
   "cell_type": "code",
   "execution_count": 101,
   "id": "8dca2e8f-e620-4a3f-9c30-548d286cf76e",
   "metadata": {},
   "outputs": [],
   "source": [
    "#splits the dataset based on the name of the pokemon cards\n",
    "pokemon_data_list <- split(pokemon, pokemon$card_name)"
   ]
  },
  {
   "cell_type": "code",
   "execution_count": 102,
   "id": "78a2a564-32b0-4247-bf91-f79b78b716b0",
   "metadata": {},
   "outputs": [
    {
     "data": {
      "text/html": [
       "6868"
      ],
      "text/latex": [
       "6868"
      ],
      "text/markdown": [
       "6868"
      ],
      "text/plain": [
       "[1] 6868"
      ]
     },
     "metadata": {},
     "output_type": "display_data"
    }
   ],
   "source": [
    "#list all pokemon card names\n",
    "all_card_names <- unique(pokemon$card_name)\n",
    "length(all_card_names)"
   ]
  },
  {
   "cell_type": "code",
   "execution_count": 115,
   "id": "c372c4c7-38c0-4509-add7-9bedb2099322",
   "metadata": {},
   "outputs": [
    {
     "name": "stdout",
     "output_type": "stream",
     "text": [
      "Data for Mew :\n",
      "\u001b[90m# A tibble: 137 × 6\u001b[39m\n",
      "   Date       Grade Price `Sale Type` set_name                  card_name\n",
      "   \u001b[3m\u001b[90m<chr>\u001b[39m\u001b[23m      \u001b[3m\u001b[90m<chr>\u001b[39m\u001b[23m \u001b[3m\u001b[90m<dbl>\u001b[39m\u001b[23m \u001b[3m\u001b[90m<chr>\u001b[39m\u001b[23m       \u001b[3m\u001b[90m<chr>\u001b[39m\u001b[23m                     \u001b[3m\u001b[90m<chr>\u001b[39m\u001b[23m    \n",
      "\u001b[90m 1\u001b[39m 2023-10-26 10    40    Auction     2021 Pokemon Celebrations Mew      \n",
      "\u001b[90m 2\u001b[39m 2023-10-15 9     12.0  Auction     2021 Pokemon Celebrations Mew      \n",
      "\u001b[90m 3\u001b[39m 2023-10-09 8      3.25 Auction     2021 Pokemon Celebrations Mew      \n",
      "\u001b[90m 4\u001b[39m 2023-10-04 9      9.99 Auction     2021 Pokemon Celebrations Mew      \n",
      "\u001b[90m 5\u001b[39m 2023-09-23 9      3    Auction     2021 Pokemon Celebrations Mew      \n",
      "\u001b[90m 6\u001b[39m 2023-09-21 9     17.2  Auction     2021 Pokemon Celebrations Mew      \n",
      "\u001b[90m 7\u001b[39m 2023-09-04 8      3.25 Auction     2021 Pokemon Celebrations Mew      \n",
      "\u001b[90m 8\u001b[39m 2023-09-04 8      6.5  Auction     2021 Pokemon Celebrations Mew      \n",
      "\u001b[90m 9\u001b[39m 2023-09-01 9     15.5  Auction     2021 Pokemon Celebrations Mew      \n",
      "\u001b[90m10\u001b[39m 2023-08-21 9     11.5  Auction     2021 Pokemon Celebrations Mew      \n",
      "\u001b[90m# ℹ 127 more rows\u001b[39m\n"
     ]
    }
   ],
   "source": [
    "#accesing the specified card name from dartaset\n",
    "name <- \"Mew\"\n",
    "if (name %in% all_card_names) {\n",
    "  # Access the dataset for the target card name\n",
    "  first_data <- pokemon_data_list[[name]]\n",
    "  cat(\"Data for\", name, \":\\n\")\n",
    "  print(first_data)\n",
    "} else {\n",
    "  cat(\"Dataset not found for\", name, \"\\n\")\n",
    "}"
   ]
  },
  {
   "cell_type": "code",
   "execution_count": 109,
   "id": "7ea8f1e3-877a-4a79-b079-b3a95617e9a4",
   "metadata": {},
   "outputs": [],
   "source": [
    "#accing more specified number of card names, not used so far\n",
    "how_many<- 0\n",
    "for (target_card_names in all_card_names[0:how_many]) {\n",
    "  # Check if the target card name exists in the list\n",
    "  if (target_card_names %in% all_card_names) {\n",
    "    # Access the dataset for the target card name\n",
    "    target_card_data <- pokemon_data_list[[target_card_names]]\n",
    "    cat(\"Data for\", target_card_names, \":\\n\")\n",
    "    print(target_card_data)\n",
    "    cat(\"\\n\")\n",
    "  } else {\n",
    "    cat(\"Dataset not found for\", target_card_names, \"\\n\")\n",
    "  }\n",
    "}\n"
   ]
  },
  {
   "cell_type": "code",
   "execution_count": 105,
   "id": "a201a7ed-caf5-43b5-b1e8-3d0a4a22fdc2",
   "metadata": {},
   "outputs": [],
   "source": [
    "#creates list of unique sets that the secifed target card has, splits the cards data\n",
    "#according to different sets\n",
    "set_split <- unique(pokemon_data_list[[name]]$set_name)\n",
    "specified_set_list <- split(pokemon_data_list[[target_card_name]], pokemon_data_list[[target_card_name]]$set_name)"
   ]
  },
  {
   "cell_type": "code",
   "execution_count": 147,
   "id": "ac993a77-67c7-4002-99f1-9614013e435a",
   "metadata": {},
   "outputs": [
    {
     "name": "stdout",
     "output_type": "stream",
     "text": [
      "Data for 2021 Pokemon Celebrations :\n",
      "\u001b[90m# A tibble: 56 × 4\u001b[39m\n",
      "   Date       Grade Price `Sale Type`\n",
      "   \u001b[3m\u001b[90m<chr>\u001b[39m\u001b[23m      \u001b[3m\u001b[90m<chr>\u001b[39m\u001b[23m \u001b[3m\u001b[90m<dbl>\u001b[39m\u001b[23m \u001b[3m\u001b[90m<chr>\u001b[39m\u001b[23m      \n",
      "\u001b[90m 1\u001b[39m 2023-10-26 10    40    Auction    \n",
      "\u001b[90m 2\u001b[39m 2023-10-15 9     12.0  Auction    \n",
      "\u001b[90m 3\u001b[39m 2023-10-09 8      3.25 Auction    \n",
      "\u001b[90m 4\u001b[39m 2023-10-04 9      9.99 Auction    \n",
      "\u001b[90m 5\u001b[39m 2023-09-23 9      3    Auction    \n",
      "\u001b[90m 6\u001b[39m 2023-09-21 9     17.2  Auction    \n",
      "\u001b[90m 7\u001b[39m 2023-09-04 8      3.25 Auction    \n",
      "\u001b[90m 8\u001b[39m 2023-09-04 8      6.5  Auction    \n",
      "\u001b[90m 9\u001b[39m 2023-09-01 9     15.5  Auction    \n",
      "\u001b[90m10\u001b[39m 2023-08-21 9     11.5  Auction    \n",
      "\u001b[90m# ℹ 46 more rows\u001b[39m\n",
      "Data for 2002 Expedition Base Set :\n",
      "\u001b[90m# A tibble: 51 × 4\u001b[39m\n",
      "   Date       Grade Price `Sale Type`\n",
      "   \u001b[3m\u001b[90m<chr>\u001b[39m\u001b[23m      \u001b[3m\u001b[90m<chr>\u001b[39m\u001b[23m \u001b[3m\u001b[90m<dbl>\u001b[39m\u001b[23m \u001b[3m\u001b[90m<chr>\u001b[39m\u001b[23m      \n",
      "\u001b[90m 1\u001b[39m 2023-10-30 10     74   Auction    \n",
      "\u001b[90m 2\u001b[39m 2023-10-08 9      35.3 Auction    \n",
      "\u001b[90m 3\u001b[39m 2023-09-11 10     70   Auction    \n",
      "\u001b[90m 4\u001b[39m 2023-09-04 10     82   Auction    \n",
      "\u001b[90m 5\u001b[39m 2023-08-02 8      40   Auction    \n",
      "\u001b[90m 6\u001b[39m 2023-06-27 9      41   Auction    \n",
      "\u001b[90m 7\u001b[39m 2023-05-20 10     89.2 Auction    \n",
      "\u001b[90m 8\u001b[39m 2023-05-01 8      32   Auction    \n",
      "\u001b[90m 9\u001b[39m 2023-04-30 9      30.4 Auction    \n",
      "\u001b[90m10\u001b[39m 2023-04-02 10    120.  Auction    \n",
      "\u001b[90m# ℹ 41 more rows\u001b[39m\n",
      "Data for 2019 Hidden Fates :\n",
      "\u001b[90m# A tibble: 30 × 4\u001b[39m\n",
      "   Date       Grade Price `Sale Type`\n",
      "   \u001b[3m\u001b[90m<chr>\u001b[39m\u001b[23m      \u001b[3m\u001b[90m<chr>\u001b[39m\u001b[23m \u001b[3m\u001b[90m<dbl>\u001b[39m\u001b[23m \u001b[3m\u001b[90m<chr>\u001b[39m\u001b[23m      \n",
      "\u001b[90m 1\u001b[39m 2023-07-16 9      9.99 Auction    \n",
      "\u001b[90m 2\u001b[39m 2023-06-25 9     12.7  Auction    \n",
      "\u001b[90m 3\u001b[39m 2023-05-21 9     14.3  Auction    \n",
      "\u001b[90m 4\u001b[39m 2023-03-20 10    22.5  Auction    \n",
      "\u001b[90m 5\u001b[39m 2023-03-17 9      6.01 Auction    \n",
      "\u001b[90m 6\u001b[39m 2023-02-26 9     28.6  Auction    \n",
      "\u001b[90m 7\u001b[39m 2022-10-28 10    41    Auction    \n",
      "\u001b[90m 8\u001b[39m 2022-10-26 10    14.5  Auction    \n",
      "\u001b[90m 9\u001b[39m 2022-09-23 9      8    Auction    \n",
      "\u001b[90m10\u001b[39m 2022-09-08 9      9.5  Auction    \n",
      "\u001b[90m# ℹ 20 more rows\u001b[39m\n"
     ]
    }
   ],
   "source": [
    "\n",
    "for (target_card_set in set_split) {\n",
    "  # Check if the target card name exists in the list\n",
    "  if (target_card_set %in% set_split) {\n",
    "    # Access the dataset for the target card name\n",
    "    target_card_data <- specified_set_list[[target_card_set]]\n",
    "    cat(\"Data for\", target_card_set, \":\\n\")\n",
    "    print(target_card_data[1:4])\n",
    "  } else {\n",
    "    cat(\"Dataset not found for\", target_card_name1, \"\\n\")\n",
    "  }\n",
    "}\n"
   ]
  },
  {
   "cell_type": "code",
   "execution_count": 181,
   "id": "d80894ad-0658-4402-89b5-09f4745db8e6",
   "metadata": {},
   "outputs": [
    {
     "name": "stderr",
     "output_type": "stream",
     "text": [
      "IOPub data rate exceeded.\n",
      "The Jupyter server will temporarily stop sending output\n",
      "to the client in order to avoid crashing it.\n",
      "To change this limit, set the config variable\n",
      "`--ServerApp.iopub_data_rate_limit`.\n",
      "\n",
      "Current values:\n",
      "ServerApp.iopub_data_rate_limit=1000000.0 (bytes/sec)\n",
      "ServerApp.rate_limit_window=3.0 (secs)\n",
      "\n"
     ]
    }
   ],
   "source": [
    "#great for grouping the needed data\n",
    "selected_card_names <- unique(pokemon$card_name)\n",
    "pokemon_split_by_card <- split(pokemon, pokemon$card_name)\n",
    "\n",
    "# Loop through each card_name subset\n",
    "for (card_name in selected_card_names) {\n",
    "  # Split each card_name subset by 'set'\n",
    "  card_name_subset <- pokemon_split_by_card[[card_name]]\n",
    "  pokemon_split_by_set <- split(card_name_subset, card_name_subset$set_name)\n",
    "\n",
    "  # Print or process each set subset\n",
    "  for (set_name1 in names(pokemon_split_by_set)) {\n",
    "    set_subset <- pokemon_split_by_set[[set_name1]]\n",
    "    set_subset <- set_subset[ , 1:4]\n",
    "    \n",
    "    \n",
    "    summary_stats <- c(\n",
    "      mean = mean(set_subset$Price),\n",
    "      median = median(set_subset$Price),\n",
    "      min = min(set_subset$Price),\n",
    "      max = max(set_subset$Price),\n",
    "      range = max(set_subset$Price) - min(set_subset$Price),\n",
    "      IQR = IQR(set_subset$Price))\n",
    "      n =length(set_subset$Price)\n",
    "    # Your processing code for each 'card_name' and 'set'\n",
    "    cat(\"Data for card_name:\", card_name, \"and set:\", set_name1, \":\\n\")\n",
    "    cat(\"\\n\")\n",
    "    print(set_subset[1, ])  # Print first 4 rows as an example\n",
    "    cat(\"\\nSummary Statistics:\\n\")\n",
    "    print(summary_stats)\n",
    "    cat(\"\\nNumber of observations:\")\n",
    "    print(n)\n",
    "    cat(\"\\n\")\n",
    "    cat(\"\\n\")\n",
    "    cat(\"\\n\")\n",
    "  }\n",
    "}"
   ]
  },
  {
   "cell_type": "code",
   "execution_count": 182,
   "id": "bd2e9f31-d25a-4119-b32d-da5daadb1ec8",
   "metadata": {},
   "outputs": [],
   "source": [
    "#great for grouping the needed data\n",
    "selected_card_names <- unique(pokemon$card_name)\n",
    "pokemon_split_by_card <- split(pokemon, pokemon$card_name)\n",
    "\n",
    "# Loop through each card_name subset\n",
    "for (card_name in selected_card_names) {\n",
    "  # Split each card_name subset by 'set'\n",
    "  card_name_subset <- pokemon_split_by_card[[card_name]]\n",
    "  pokemon_split_by_set <- split(card_name_subset, card_name_subset$set_name)\n",
    "\n",
    "  # Print or process each set subset\n",
    "  for (set_name1 in names(pokemon_split_by_set)) {\n",
    "    set_subset <- pokemon_split_by_set[[set_name1]]\n",
    "    set_subset <- set_subset[ , 1:4]\n",
    "    \n",
    "    \n",
    "    summary_stats <- c(\n",
    "      mean = mean(set_subset$Price),\n",
    "      median = median(set_subset$Price),\n",
    "      min = min(set_subset$Price),\n",
    "      max = max(set_subset$Price),\n",
    "      range = max(set_subset$Price) - min(set_subset$Price),\n",
    "      IQR = IQR(set_subset$Price))\n",
    "      n =length(set_subset$Price)\n",
    "    # Your processing code for each 'card_name' and 'set'\n",
    "  }\n",
    "}"
   ]
  },
  {
   "cell_type": "code",
   "execution_count": null,
   "id": "3d237799-cec4-4c7b-93b6-61c8508abcf5",
   "metadata": {},
   "outputs": [],
   "source": []
  }
 ],
 "metadata": {
  "kernelspec": {
   "display_name": "R",
   "language": "R",
   "name": "ir"
  },
  "language_info": {
   "codemirror_mode": "r",
   "file_extension": ".r",
   "mimetype": "text/x-r-source",
   "name": "R",
   "pygments_lexer": "r",
   "version": "4.3.1"
  }
 },
 "nbformat": 4,
 "nbformat_minor": 5
}
